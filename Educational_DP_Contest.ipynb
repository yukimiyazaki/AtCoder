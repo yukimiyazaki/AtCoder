{
  "nbformat": 4,
  "nbformat_minor": 0,
  "metadata": {
    "colab": {
      "name": "Educational_DP_Contest.ipynb",
      "version": "0.3.2",
      "provenance": [],
      "collapsed_sections": [],
      "include_colab_link": true
    },
    "kernelspec": {
      "name": "python3",
      "display_name": "Python 3"
    }
  },
  "cells": [
    {
      "cell_type": "markdown",
      "metadata": {
        "id": "view-in-github",
        "colab_type": "text"
      },
      "source": [
        "<a href=\"https://colab.research.google.com/github/yukimiyazaki/AtCoder/blob/master/Educational_DP_Contest.ipynb\" target=\"_parent\"><img src=\"https://colab.research.google.com/assets/colab-badge.svg\" alt=\"Open In Colab\"/></a>"
      ]
    },
    {
      "metadata": {
        "id": "VenYmUIVubWg",
        "colab_type": "text"
      },
      "cell_type": "markdown",
      "source": [
        "# [A - Frog 1](https://atcoder.jp/contests/dp/tasks/dp_a)\n",
        "\n",
        "---\n",
        "\n",
        "\n",
        "N\n",
        "  個の足場があります。 足場には \n",
        "1\n",
        ",\n",
        "2\n",
        ",\n",
        "…\n",
        ",\n",
        "N\n",
        " と番号が振られています。 各 \n",
        "i\n",
        " (\n",
        "1\n",
        "≤\n",
        "i\n",
        "≤\n",
        "N\n",
        ") について、足場 \n",
        "i\n",
        " の高さは \n",
        "h\n",
        "i\n",
        " です。\n",
        "\n",
        "最初、足場 \n",
        "1\n",
        " にカエルがいます。 カエルは次の行動を何回か繰り返し、足場 \n",
        "N\n",
        " まで辿り着こうとしています。\n",
        "\n",
        "足場 \n",
        "i\n",
        " にいるとき、足場 \n",
        "i\n",
        "+\n",
        "1\n",
        " または \n",
        "i\n",
        "+\n",
        "2\n",
        " へジャンプする。 このとき、ジャンプ先の足場を \n",
        "j\n",
        " とすると、コスト \n",
        "|\n",
        "h\n",
        "i\n",
        "−\n",
        "h\n",
        "j\n",
        "|\n",
        " を支払う。\n",
        "カエルが足場 \n",
        "N\n",
        " に辿り着くまでに支払うコストの総和の最小値を求めてください。"
      ]
    },
    {
      "metadata": {
        "id": "feDBHqz1DL9R",
        "colab_type": "code",
        "outputId": "6e51b27d-7ccd-4965-d98f-13743009098c",
        "colab": {
          "base_uri": "https://localhost:8080/",
          "height": 51
        }
      },
      "cell_type": "code",
      "source": [
        "N = int(input())\n",
        "hlist = list(map(int, input().split()))\n"
      ],
      "execution_count": 0,
      "outputs": [
        {
          "output_type": "stream",
          "text": [
            "4\n",
            "10 30 40 20\n"
          ],
          "name": "stdout"
        }
      ]
    },
    {
      "metadata": {
        "id": "XFp3hY2YDejM",
        "colab_type": "code",
        "outputId": "0b21b3fe-752e-4fe1-e42b-0cabf5531250",
        "colab": {
          "base_uri": "https://localhost:8080/",
          "height": 34
        }
      },
      "cell_type": "code",
      "source": [
        "cost = [-1 for _ in range(N)]\n",
        "cost[0] = 0\n",
        "cost[1] = abs(hlist[1] - hlist[0])\n",
        "cost"
      ],
      "execution_count": 0,
      "outputs": [
        {
          "output_type": "execute_result",
          "data": {
            "text/plain": [
              "[0, 20, -1, -1]"
            ]
          },
          "metadata": {
            "tags": []
          },
          "execution_count": 33
        }
      ]
    },
    {
      "metadata": {
        "id": "tVXy501WFIs9",
        "colab_type": "code",
        "colab": {}
      },
      "cell_type": "code",
      "source": [
        "#再帰\n",
        "\"\"\"\n",
        "def function(n)\n",
        "if 終了条件 return 初項\n",
        "return function(n-1)を処理したもの\n",
        "\"\"\"\n",
        "def dp(n):\n",
        "  print(n)\n",
        "  if n==0: return cost[0]\n",
        "  if n==1: return cost[1]\n",
        "  else: return min(dp(n-1)+abs(hlist[n]-hlist[n-1]), dp(n-2)+abs(hlist[n]-hlist[n-2]))"
      ],
      "execution_count": 0,
      "outputs": []
    },
    {
      "metadata": {
        "id": "gIUHckHUDupt",
        "colab_type": "code",
        "outputId": "c94db586-e12e-4911-f3b0-79000ac5a326",
        "colab": {
          "base_uri": "https://localhost:8080/",
          "height": 187
        }
      },
      "cell_type": "code",
      "source": [
        "for i in range(N):\n",
        "  cost[i] = dp(i)"
      ],
      "execution_count": 0,
      "outputs": [
        {
          "output_type": "stream",
          "text": [
            "0\n",
            "1\n",
            "2\n",
            "1\n",
            "0\n",
            "3\n",
            "2\n",
            "1\n",
            "0\n",
            "1\n"
          ],
          "name": "stdout"
        }
      ]
    },
    {
      "metadata": {
        "id": "u9MWuZnUqnQK",
        "colab_type": "code",
        "outputId": "6d90d105-b226-4458-dc5b-21835a51366d",
        "colab": {
          "base_uri": "https://localhost:8080/",
          "height": 34
        }
      },
      "cell_type": "code",
      "source": [
        "cost"
      ],
      "execution_count": 0,
      "outputs": [
        {
          "output_type": "execute_result",
          "data": {
            "text/plain": [
              "[0, 20, 30, 30]"
            ]
          },
          "metadata": {
            "tags": []
          },
          "execution_count": 38
        }
      ]
    },
    {
      "metadata": {
        "id": "Bg8_QuF6otT2",
        "colab_type": "code",
        "outputId": "07b5d4e7-4f72-4030-ac6f-85b39684f1f0",
        "colab": {
          "base_uri": "https://localhost:8080/",
          "height": 34
        }
      },
      "cell_type": "code",
      "source": [
        "print(cost[-1])"
      ],
      "execution_count": 0,
      "outputs": [
        {
          "output_type": "stream",
          "text": [
            "30\n"
          ],
          "name": "stdout"
        }
      ]
    },
    {
      "metadata": {
        "id": "mzjMS45nrizc",
        "colab_type": "code",
        "colab": {}
      },
      "cell_type": "code",
      "source": [
        "N = int(input())\n",
        "hlist = list(map(int, input().split()))\n",
        "\n",
        "#再帰\n",
        "\"\"\"\n",
        "def function(n)\n",
        "if 終了条件 return 初項\n",
        "return function(n-1)を処理したもの\n",
        "\"\"\"\n",
        "def dp(n):\n",
        "  if n==0: return 0\n",
        "  if n==1: return abs(hlist[1] - hlist[0])\n",
        "  else: return min(dp(n-1)+abs(hlist[n]-hlist[n-1]), dp(n-2)+abs(hlist[n]-hlist[n-2]))\n",
        "\n",
        "print(dp(N-1))"
      ],
      "execution_count": 0,
      "outputs": []
    },
    {
      "metadata": {
        "id": "98b4aDNU3x4F",
        "colab_type": "code",
        "colab": {}
      },
      "cell_type": "code",
      "source": [
        "N = int(input())\n",
        "hlist = list(map(int, input().split()))\n",
        "cost = [-1 for _ in range(N)]\n",
        " \n",
        "def dp(n):\n",
        "  if n==0: return 0\n",
        "  if n==1: return abs(hlist[1] - hlist[0])\n",
        "  else: return min(cost[n-1]+abs(hlist[n]-hlist[n-1]), cost[n-2]+abs(hlist[n]-hlist[n-2]))\n",
        " \n",
        "for i in range(N):\n",
        "  cost[i]=dp(i)\n",
        "print(cost[-1])"
      ],
      "execution_count": 0,
      "outputs": []
    },
    {
      "metadata": {
        "id": "HJovIXb94B6j",
        "colab_type": "code",
        "outputId": "6a144686-bc1d-44f9-afd4-debbc26016b5",
        "colab": {
          "base_uri": "https://localhost:8080/",
          "height": 34
        }
      },
      "cell_type": "code",
      "source": [
        "cost"
      ],
      "execution_count": 0,
      "outputs": [
        {
          "output_type": "execute_result",
          "data": {
            "text/plain": [
              "[0, 20, 30, 30]"
            ]
          },
          "metadata": {
            "tags": []
          },
          "execution_count": 6
        }
      ]
    },
    {
      "metadata": {
        "id": "uFHitxY6vN3n",
        "colab_type": "text"
      },
      "cell_type": "markdown",
      "source": [
        "# [B - Frog 2](https://atcoder.jp/contests/dp/tasks/dp_b)\n",
        "\n",
        "---\n",
        "\n",
        "\n",
        "N\n",
        "  個の足場があります。 足場には \n",
        "1\n",
        ",\n",
        "2\n",
        ",\n",
        "…\n",
        ",\n",
        "N\n",
        " と番号が振られています。 各 \n",
        "i\n",
        " (\n",
        "1\n",
        "≤\n",
        "i\n",
        "≤\n",
        "N\n",
        ") について、足場 \n",
        "i\n",
        " の高さは \n",
        "h\n",
        "i\n",
        " です。\n",
        "\n",
        "最初、足場 \n",
        "1\n",
        " にカエルがいます。 カエルは次の行動を何回か繰り返し、足場 \n",
        "N\n",
        " まで辿り着こうとしています。\n",
        "\n",
        "足場 \n",
        "i\n",
        " にいるとき、足場 \n",
        "i\n",
        "+\n",
        "1\n",
        ",\n",
        "i\n",
        "+\n",
        "2\n",
        ",\n",
        "…\n",
        ",\n",
        "i\n",
        "+\n",
        "K\n",
        " のどれかへジャンプする。 このとき、ジャンプ先の足場を \n",
        "j\n",
        " とすると、コスト \n",
        "|\n",
        "h\n",
        "i\n",
        "−\n",
        "h\n",
        "j\n",
        "|\n",
        " を支払う。\n",
        "カエルが足場 \n",
        "N\n",
        " に辿り着くまでに支払うコストの総和の最小値を求めてください。\n",
        "\n"
      ]
    },
    {
      "metadata": {
        "id": "FMx-nbSfoqTY",
        "colab_type": "code",
        "colab": {}
      },
      "cell_type": "code",
      "source": [
        "def chmin(a, b): #aとbを入れた時に\n",
        "    if a > b: return a\n",
        "    else: return b"
      ],
      "execution_count": 0,
      "outputs": []
    },
    {
      "metadata": {
        "id": "d1_59_l2rAiU",
        "colab_type": "code",
        "outputId": "2f52d7cb-7cd7-47d2-cf4c-2d31961d9a23",
        "colab": {
          "base_uri": "https://localhost:8080/",
          "height": 34
        }
      },
      "cell_type": "code",
      "source": [
        "chmin(1,2)"
      ],
      "execution_count": 0,
      "outputs": [
        {
          "output_type": "execute_result",
          "data": {
            "text/plain": [
              "2"
            ]
          },
          "metadata": {
            "tags": []
          },
          "execution_count": 3
        }
      ]
    },
    {
      "metadata": {
        "id": "bP8jy3bCu2qm",
        "colab_type": "code",
        "outputId": "a1538c44-addc-43e5-9e3b-39ba98e2a95c",
        "colab": {
          "base_uri": "https://localhost:8080/",
          "height": 51
        }
      },
      "cell_type": "code",
      "source": [
        "N,K = map(int,input().split())\n",
        "hlist = list(map(int, input().split()))\n",
        "cost = [-1 for _ in range(N)]"
      ],
      "execution_count": 0,
      "outputs": [
        {
          "output_type": "stream",
          "text": [
            "5 3\n",
            "10 30 40 50 20\n"
          ],
          "name": "stdout"
        }
      ]
    },
    {
      "metadata": {
        "id": "W9Sbb57RwS0b",
        "colab_type": "code",
        "outputId": "0b199eb7-71c2-4e33-8947-572429e056db",
        "colab": {
          "base_uri": "https://localhost:8080/",
          "height": 34
        }
      },
      "cell_type": "code",
      "source": [
        "cost"
      ],
      "execution_count": 0,
      "outputs": [
        {
          "output_type": "execute_result",
          "data": {
            "text/plain": [
              "[-1, -1, -1, -1, -1]"
            ]
          },
          "metadata": {
            "tags": []
          },
          "execution_count": 10
        }
      ]
    },
    {
      "metadata": {
        "id": "BZWqn4gkwdBJ",
        "colab_type": "code",
        "outputId": "8d05cd8a-8d22-49b0-d918-1c21be8a6a0e",
        "colab": {
          "base_uri": "https://localhost:8080/",
          "height": 34
        }
      },
      "cell_type": "code",
      "source": [
        "hlist[i]"
      ],
      "execution_count": 0,
      "outputs": [
        {
          "output_type": "execute_result",
          "data": {
            "text/plain": [
              "30"
            ]
          },
          "metadata": {
            "tags": []
          },
          "execution_count": 16
        }
      ]
    },
    {
      "metadata": {
        "id": "KZi7Z2pfvPoQ",
        "colab_type": "code",
        "outputId": "8ecf6337-0301-44b1-fbfc-8de494ee96e6",
        "colab": {
          "base_uri": "https://localhost:8080/",
          "height": 34
        }
      },
      "cell_type": "code",
      "source": [
        "np.zeros(N, dtype=\"int32\")"
      ],
      "execution_count": 0,
      "outputs": [
        {
          "output_type": "execute_result",
          "data": {
            "text/plain": [
              "array([0, 0, 0, 0, 0], dtype=int32)"
            ]
          },
          "metadata": {
            "tags": []
          },
          "execution_count": 28
        }
      ]
    },
    {
      "metadata": {
        "id": "YXHMi__0xvV-",
        "colab_type": "code",
        "colab": {}
      },
      "cell_type": "code",
      "source": [
        "import numpy as np\n",
        "h = np.array(hlist)\n",
        "\n",
        "dp = np.zeros(N, dtype=\"int32\")\n",
        " \n",
        "for i in range(1, N):\n",
        "    if i < K:\n",
        "        dp[i] = np.min(dp[:i] + np.abs(h[i]-h[:i]))\n",
        "    else:\n",
        "        dp[i] = np.min(dp[i-K:i] + np.abs(h[i]-h[i-K:i]))"
      ],
      "execution_count": 0,
      "outputs": []
    },
    {
      "metadata": {
        "id": "75YYz8h13iaD",
        "colab_type": "code",
        "outputId": "850b61c1-740b-4eb6-a081-c303e9714f31",
        "colab": {
          "base_uri": "https://localhost:8080/",
          "height": 34
        }
      },
      "cell_type": "code",
      "source": [
        "dp[0]"
      ],
      "execution_count": 0,
      "outputs": [
        {
          "output_type": "execute_result",
          "data": {
            "text/plain": [
              "0"
            ]
          },
          "metadata": {
            "tags": []
          },
          "execution_count": 22
        }
      ]
    },
    {
      "metadata": {
        "id": "OPo_H9F53klk",
        "colab_type": "code",
        "outputId": "254e415a-6f02-4e8c-f632-edc61dfeff79",
        "colab": {
          "base_uri": "https://localhost:8080/",
          "height": 34
        }
      },
      "cell_type": "code",
      "source": [
        "i=3\n",
        "np.abs(h[i]-h[:i])"
      ],
      "execution_count": 0,
      "outputs": [
        {
          "output_type": "execute_result",
          "data": {
            "text/plain": [
              "array([40, 20, 10])"
            ]
          },
          "metadata": {
            "tags": []
          },
          "execution_count": 26
        }
      ]
    },
    {
      "metadata": {
        "id": "W1yAfGne3uaR",
        "colab_type": "code",
        "outputId": "3d7448ec-bb3b-443e-bcf3-7f1a402e87e3",
        "colab": {
          "base_uri": "https://localhost:8080/",
          "height": 34
        }
      },
      "cell_type": "code",
      "source": [
        "dp[:i]"
      ],
      "execution_count": 0,
      "outputs": [
        {
          "output_type": "execute_result",
          "data": {
            "text/plain": [
              "array([ 0, 20, 30], dtype=int32)"
            ]
          },
          "metadata": {
            "tags": []
          },
          "execution_count": 27
        }
      ]
    },
    {
      "metadata": {
        "id": "aq5v5n3Au9pF",
        "colab_type": "code",
        "outputId": "d4898ba6-c06f-436e-c6bb-f58f52048161",
        "colab": {
          "base_uri": "https://localhost:8080/",
          "height": 34
        }
      },
      "cell_type": "code",
      "source": [
        "print(dp[N - 1])"
      ],
      "execution_count": 0,
      "outputs": [
        {
          "output_type": "stream",
          "text": [
            "30\n"
          ],
          "name": "stdout"
        }
      ]
    },
    {
      "metadata": {
        "id": "tMzLAbZLmtSl",
        "colab_type": "code",
        "colab": {}
      },
      "cell_type": "code",
      "source": [
        "import numpy as np\n",
        " \n",
        "N_K = list(map(int,input().split()))\n",
        "H = np.array(list(map(int,input().split())))\n",
        " \n",
        "N = N_K[0]\n",
        "K = N_K[1]\n",
        " \n",
        "dp= np.zeros(N,dtype=np.int)\n",
        " \n",
        "for i in range(1,len(H)):\n",
        " \n",
        "    if i < K:\n",
        "        dp[i] = np.min(dp[:i] + np.abs(H[i]-H[:i]))\n",
        "    else:\n",
        "        dp[i] = np.min(dp[i-K:i] + np.abs(H[i]-H[i-K:i]))\n",
        "    \n",
        "print(dp[N - 1])"
      ],
      "execution_count": 0,
      "outputs": []
    }
  ]
}