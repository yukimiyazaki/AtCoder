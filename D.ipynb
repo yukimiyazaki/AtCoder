{
  "nbformat": 4,
  "nbformat_minor": 0,
  "metadata": {
    "colab": {
      "name": "D.ipynb",
      "version": "0.3.2",
      "provenance": [],
      "collapsed_sections": [],
      "include_colab_link": true
    },
    "kernelspec": {
      "name": "python3",
      "display_name": "Python 3"
    }
  },
  "cells": [
    {
      "cell_type": "markdown",
      "metadata": {
        "id": "view-in-github",
        "colab_type": "text"
      },
      "source": [
        "<a href=\"https://colab.research.google.com/github/yukimiyazaki/AtCoder/blob/master/D.ipynb\" target=\"_parent\"><img src=\"https://colab.research.google.com/assets/colab-badge.svg\" alt=\"Open In Colab\"/></a>"
      ]
    },
    {
      "metadata": {
        "id": "HhniYEd222gO",
        "colab_type": "text"
      },
      "cell_type": "markdown",
      "source": [
        "[ABC085-D Katana Thrower](https://abc085.contest.atcoder.jp/tasks/abc085_d)\n",
        "\n",
        "[AC](https://atcoder.jp/contests/abc085/submissions/3453592)\n",
        "\n",
        "[TLE](https://atcoder.jp/contests/abc085/submissions/3453499)"
      ]
    },
    {
      "metadata": {
        "id": "cQAHrCYQ2yJN",
        "colab_type": "code",
        "colab": {}
      },
      "cell_type": "code",
      "source": [
        "import numpy as np\n",
        " \n",
        "N,H = map(int,input().split())\n",
        "ab = np.asarray([list(map(int,input().split())) for _ in range(N)])\n",
        " \n",
        " \n",
        "#bのうち大きなものから引いていく\n",
        "#b[i]のうち、max(a)が大きければ、以降max(a)で攻撃し続ける\n",
        " \n",
        "max_a = np.max(ab[:,0])\n",
        "b_sort = np.sort(ab[:,1])[::-1] #降順\n",
        " \n",
        "ans = 0\n",
        " \n",
        "b_sort = b_sort[np.where(b_sort > max_a)]\n",
        " \n",
        "#b_sortの中で大きいのから順に引いていく\n",
        "for i in range(len(b_sort)):\n",
        "  H -= b_sort[i]\n",
        "  ans += 1\n",
        "  if H <= 0:\n",
        "    print(ans)\n",
        "    exit()\n",
        " \n",
        "#bをすべて引いてもH>0ならaで攻撃\n",
        "if H % max_a == 0:\n",
        "  ans += H // max_a\n",
        "else:\n",
        "  ans += H // max_a + 1\n",
        " \n",
        "print(ans)"
      ],
      "execution_count": 0,
      "outputs": []
    },
    {
      "metadata": {
        "id": "CHbxSkEz3dAo",
        "colab_type": "text"
      },
      "cell_type": "markdown",
      "source": [
        "[ABC059-D Alice&Brown](https://beta.atcoder.jp/contests/abc059/tasks/arc072_b)\n",
        "\n",
        "ポイント：小さい数から実験してみる\n",
        "\n",
        "[AC](https://atcoder.jp/contests/abc059/submissions/3446554)"
      ]
    },
    {
      "metadata": {
        "id": "f2XNMANe3dkk",
        "colab_type": "code",
        "colab": {}
      },
      "cell_type": "code",
      "source": [
        "#(X,Y)について実験をすると、\n",
        " ##X012345\n",
        " #Y0BBAAAA...\n",
        " ##1BBBAAA...\n",
        " ##2ABBBAA...\n",
        " ##3AABBBA...\n",
        " ##4AAABBBA...\n",
        " ##5AAAABBBA...\n",
        " #となるので、 Y-1 <= X <= Y+1 の時のみBが勝つ\n",
        " X, Y = map(int, input().split())\n",
        " if Y-1 <= X <= Y+1:\n",
        " print('Brown')\n",
        " else:\n",
        " print('Alice')"
      ],
      "execution_count": 0,
      "outputs": []
    },
    {
      "metadata": {
        "id": "YEZ57G314JFK",
        "colab_type": "text"
      },
      "cell_type": "markdown",
      "source": [
        "[ABC090D - Remainder Reminder](https://beta.atcoder.jp/contests/abc090/tasks/arc091_b)\n",
        "\n",
        "ポイント：内容を理解して二重のfor loopを減らす\n",
        "\n",
        "[AC](https://atcoder.jp/contests/abc090/submissions/3430246)"
      ]
    },
    {
      "metadata": {
        "id": "K-Rs_bbu4aw5",
        "colab_type": "code",
        "colab": {}
      },
      "cell_type": "code",
      "source": [
        "\"\"\"\n",
        "r>=kのものを調べる\n",
        "bがN以下、aがb以下でfor loop\n",
        "for loopを1重にしたい->0~Nまで動かすとどうなるか考える\n",
        "bを固定する\n",
        "N=b*p+r (r:あまり)\n",
        "あるbについてaを0~Nまで動かすと、a%b=0,1,2,...,b-1,0,...\n",
        "(0~b-1)がp回繰り返され、最後に0,1,...,r-1,rがつけ加わった形になる\n",
        "あまりの数は、(b-K)*p + (r-K+1)\n",
        "\"\"\"\n",
        "N, K = map(int, input().split())\n",
        "ans = 0\n",
        "for b in range(1,N+1): #1~Nまで\n",
        "r = N%b\n",
        "p = (N-r)//b\n",
        "ans += max(0,(b-K)*p) + max(0,(r-K+1))\n",
        "#a=0のときは、K=0で問題になりansからNを引けば良い\n",
        "if K==0:\n",
        "ans -=N\n",
        "print(ans)"
      ],
      "execution_count": 0,
      "outputs": []
    }
  ]
}