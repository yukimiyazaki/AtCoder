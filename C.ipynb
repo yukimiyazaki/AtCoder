{
  "nbformat": 4,
  "nbformat_minor": 0,
  "metadata": {
    "colab": {
      "name": "C.ipynb",
      "version": "0.3.2",
      "provenance": [],
      "collapsed_sections": [],
      "toc_visible": true,
      "include_colab_link": true
    },
    "kernelspec": {
      "name": "python3",
      "display_name": "Python 3"
    }
  },
  "cells": [
    {
      "cell_type": "markdown",
      "metadata": {
        "id": "view-in-github",
        "colab_type": "text"
      },
      "source": [
        "<a href=\"https://colab.research.google.com/github/yukimiyazaki/AtCoder/blob/master/C.ipynb\" target=\"_parent\"><img src=\"https://colab.research.google.com/assets/colab-badge.svg\" alt=\"Open In Colab\"/></a>"
      ]
    },
    {
      "metadata": {
        "id": "22DJ1tVbrG2O",
        "colab_type": "text"
      },
      "cell_type": "markdown",
      "source": [
        "#C問題\n",
        "\n",
        "\n",
        "---\n",
        "* ABC006-C スフィンクスのなぞなぞ\n",
        "* ABC040-C 柱柱柱柱柱\n",
        "* ABC054-C One-Stroke Path\n",
        "* ABC070-C Multiple Clocks\n",
        "* ABC075-C Bridge\n",
        "* ABC085-C Otoshidama\n"
      ]
    },
    {
      "metadata": {
        "id": "nJ_yyuuapjnT",
        "colab_type": "text"
      },
      "cell_type": "markdown",
      "source": [
        "#ABC085C\n",
        "\n",
        "---\n",
        "\n",
        "\n",
        "beginners_selection で攻略済"
      ]
    },
    {
      "metadata": {
        "id": "KOQ4kw8up3Eu",
        "colab_type": "text"
      },
      "cell_type": "markdown",
      "source": [
        "#[ABC070C](https://beta.atcoder.jp/contests/abc070/tasks/abc070_c)\n",
        "\n",
        "---\n",
        "\n",
        "ポイント：最小公倍数、逐次処理"
      ]
    },
    {
      "metadata": {
        "id": "WAexICeRqjxz",
        "colab_type": "code",
        "colab": {}
      },
      "cell_type": "code",
      "source": [
        "N = int(input())\n",
        "T = [int(input()) for _ in range(N)]\n",
        "  \n",
        " # 最大公約数\n",
        "def gcd(a, b):\n",
        "   while b > 0:\n",
        "      a, b = b, a%b\n",
        "   return a\n",
        "  \n",
        " # 最小公倍数\n",
        "def lcm(a, b):\n",
        "   return a*b//gcd(a, b)\n",
        "  \n",
        " # 逐次的にlcmを計算する\n",
        "ans = T[0]\n",
        "for i in range(N):\n",
        "    ans = lcm(ans, T[i])\n",
        "    \n",
        "print(ans)"
      ],
      "execution_count": 0,
      "outputs": []
    },
    {
      "metadata": {
        "id": "5b2nxLpUqnh7",
        "colab_type": "text"
      },
      "cell_type": "markdown",
      "source": [
        "# [ABC054C](https://abc054.contest.atcoder.jp/tasks/abc054_c)\n",
        "\n",
        "---\n",
        "ポイント：全通りでいける & next_permutation\n",
        "___\n",
        "http://mmxsrup.hatenablog.com/entry/2017/02/11/224240\n",
        ">Nが最大8であるので, パスを全探索することができる. パスを全部書き出すと, 1は決定しているので, 2からNまでのすべての順列になる. よって, すべてのパスの数は最大,　(N-1)!　なので, これをすべて調べてもNが小さいので大丈夫.\n",
        "\n",
        "> 実装方法は, 2~7のnext_permutationですべての順列に対して、その順列の順番でいくことができるパスが実際にあるのかを調べて, 全部でいくつあるかをカウントすればよい."
      ]
    },
    {
      "metadata": {
        "id": "4wmv_q5uryYc",
        "colab_type": "code",
        "colab": {}
      },
      "cell_type": "code",
      "source": [
        "from itertools import permutations\n",
        " \n",
        "N,M = map(int,input().split())\n",
        "ans=0\n",
        "s = []\n",
        " \n",
        "for i in range(M):\n",
        "    a,b = map(int,input().split())\n",
        "    s.append([a,b])\n",
        "\n",
        "#print(s) #[[1, 2], [1, 3], [2, 3]]\n",
        "\n",
        "t=list(permutations(list(range(1,N+1))))\n",
        "\n",
        "##print(t) [(1, 2, 3), (1, 3, 2), (2, 1, 3), (2, 3, 1), (3, 1, 2), (3, 2, 1)]\n",
        "\n",
        "for i in range(len(t)):\n",
        "    flag=True\n",
        "    if t[i][0]!=1: continue #1スタートのみ。continue文はfor文やwhile文などループ内の処理をスキップ\n",
        "    for j in range(N-1):\n",
        "        a=sorted([t[i][j],t[i][j+1]]) #(1,2,3)なら[(1,2)]や[(2,3)]\n",
        "        #print(i)# 0 0 1 1\n",
        "        #print(j)# 0 1 0 1\n",
        "        #print(a)# [1, 2] [2, 3] [1,3] [2,3]\n",
        "        if a not in s: flag=False\n",
        "    if flag == True:\n",
        "        ans = ans + 1\n",
        "\n",
        "print(ans)\n",
        "\n",
        "#再帰 https://qiita.com/jumpyoshim/items/20e6b5e70efa466699b4\n",
        "\n",
        "def sum(n):\n",
        "    if n <= 0:\n",
        "        return n\n",
        "    return n + sum(n-1)\n",
        "  \n",
        "#DFS https://atcoder.jp/img/abc054/editorial.pdf  \n",
        "\n",
        "def DFS(Current_Node,Visited_Node):\n",
        "    if len(Visited_Node) == N - 1:\n",
        "        return 1\n",
        "    ans = 0\n",
        " \n",
        "    for a,b in AB:\n",
        "        if a == Current_Node and b not in Visited_Node:\n",
        "            vns = Visited_Node.copy()\n",
        "            vns.add(a)\n",
        "            ans += DFS(b, vns)\n",
        " \n",
        "        if b == Current_Node and a not in Visited_Node:\n",
        "            vns = Visited_Node.copy()\n",
        "            vns.add(b)\n",
        "            ans += DFS(a,vns)\n",
        "    return ans\n",
        " \n",
        " \n",
        " \n",
        "N,M = map(int,input().split())\n",
        "AB = []\n",
        " \n",
        "for i in range(M):\n",
        "    a,b = map(int,input().split())\n",
        "    AB.append((a,b))\n",
        " \n",
        "ans = DFS(1,set())\n",
        "print(ans)"
      ],
      "execution_count": 0,
      "outputs": []
    },
    {
      "metadata": {
        "id": "u1CYKaPvrNp7",
        "colab_type": "text"
      },
      "cell_type": "markdown",
      "source": [
        "# [ABC006C](https://beta.atcoder.jp/contests/abc006/tasks/abc006_3)\n",
        "---\n",
        "ポイント：変数の数を減らす\n",
        "http://kmjp.hatenablog.jp/entry/2014/04/05/0900\n",
        "---\n",
        ">C - スフィンクスのなぞなぞ\n",
        "> N,Mが与えられたとき、\n",
        "> x + y + z = N\n",
        "> 2x + 3y + 4z = M\n",
        "> x,y,z >= 0\n",
        "> を満たす整数z,y,zがあれば答えよ。\n",
        "> \n",
        "> xを0～Nで総当たりしつつ、式変形より：\n",
        "> \n",
        "> z = (M-x*2)-3*(N-x)\n",
        "> y = N-x-z\n",
        "> を求めてy,zが0以上になるのを選べばよい。O(N)で済む。"
      ]
    },
    {
      "metadata": {
        "colab_type": "code",
        "id": "tqVt_SSyrtxP",
        "colab": {}
      },
      "cell_type": "code",
      "source": [
        "import sys\n",
        "\n",
        "N,M=map(int,raw_input().strip().split(\" \"))\n",
        "\n",
        "for x in range(0,N+1):\n",
        "\tz = (M-x*2)-3*(N-x)\n",
        "\ty = N-x-z\n",
        "\tif y >= 0 and z >= 0:\n",
        "\t\tprint (x,y,z)\n",
        "\t\tsys.exit()\n",
        "\n",
        "print (-1,-1,-1)"
      ],
      "execution_count": 0,
      "outputs": []
    },
    {
      "metadata": {
        "id": "wnKtFrkcbkAW",
        "colab_type": "text"
      },
      "cell_type": "markdown",
      "source": [
        "#[ABC040C](https://beta.atcoder.jp/contests/abc040/tasks/abc040_c)\n",
        "\n",
        "---\n",
        "\n",
        "\n",
        "ポイント：Dynamic Programming\n",
        "\n",
        "---\n",
        "\n",
        "漸化式的に計算すれば良い\n",
        ">２種類のDP\n",
        "\n",
        "> トップダウン：メモ化再帰、メモ化\n",
        "\n",
        "> ボトムアップ：分割統治法、漸化式ループ\n",
        "\n",
        "> http://tango-ruby.hatenablog.com/entry/2016/10/20/172918\n",
        "\n",
        "---\n",
        "\n",
        ">C - 柱柱柱柱柱\n",
        "> 基本的な動的計画法 (DP; Dynamic Programming) を用いる問題である。N が大きいので移動パターンを\n",
        "> すべて試すことは現実的でなく、また入出力例 2 からわかるように常にコストの安い選択をすればよいわけ\n",
        "> でもない。\n",
        "> dp[] という配列を用意し、dp[i] が「1 本目の柱から i 本目の柱へ移動するまでの合計コストの最小値」とな\n",
        "> るように計算をしたい。まず明らかに dp[1] = 0 である。1 より大きな i については次のように考えられる。\n",
        "> • i − 2 本目の柱から一気に i 本目の柱へ飛んだ場合、そのときの最小コストは dp[i − 2] + |Ai−2 − Ai\n",
        "> |\n",
        "> である。\n",
        "> • そうではなく、i−1 本目の柱から i 本目の柱へ来た場合、そのときの最小コストは dp[i−1]+|Ai−1−Ai\n",
        "> |\n",
        "> である。\n",
        "> よって、i を小さい方から dp[i] の値を求めていき、それぞれの計算は上の 2 パターンのうちより小さい方\n",
        "> の値をとればよい。最終的に dp[N] が求める答えとなる。"
      ]
    },
    {
      "metadata": {
        "id": "oeNtY7OXb2II",
        "colab_type": "code",
        "colab": {}
      },
      "cell_type": "code",
      "source": [
        "def ans():\n",
        "    n = int(input())\n",
        "    a = list(map(int, input().split()))\n",
        "    dp = [0] * (n+1)\n",
        "    dp[0] = 0\n",
        "    dp[1] = abs(a[0]-a[1])\n",
        "    for i in range(2, n):\n",
        "        x = dp[i-2] + abs(a[i-2]-a[i])\n",
        "        y = dp[i-1] + abs(a[i-1]-a[i])\n",
        "        dp[i] = min(x,y)\n",
        "    return dp[n-1]\n",
        "print(ans())"
      ],
      "execution_count": 0,
      "outputs": []
    },
    {
      "metadata": {
        "id": "tolb-PJob-v7",
        "colab_type": "text"
      },
      "cell_type": "markdown",
      "source": [
        "#[ABC075C](https://beta.atcoder.jp/contests/abc075/tasks/abc075_c)\n",
        "\n",
        "---\n",
        "\n",
        "前提知識:UnionFind\n",
        "\n",
        "---\n",
        "UnionFind問題まとめ\n",
        "https://www.hamayanhamayan.com/entry/2017/10/04/101826\n",
        "\n",
        "https://www.hamayanhamayan.com/entry/2017/10/15/002234\n",
        "\n",
        "http://www.nicovideo.jp/watch/sm32101704\n",
        "\n",
        "\n",
        "---\n",
        "\n",
        ">全ての辺について橋となるかを確かめる。\n",
        "> 辺iが橋かどうかは辺i以外の辺を使うとグラフ全体が連結かどうかを判定すればいい。\n",
        "> これにはUnionFindを使おう。\n",
        "> 辺i以外の辺を使ってUnionFindで連結する。\n",
        "> もし、グラフ全体が連結ならばuf[i]=iとなる頂点がただ1つだけある。\n",
        "> そうでなければ非連結なので、uf[i]=iとなる頂点を数えて判定すればいい。\n",
        "\n",
        "https://blog.shibayu36.org/entry/2017/02/13/080000\n",
        "\n",
        "二つのノードを繋いでいき(Union)、あるノードとあるノードがつながっているか(Find or Connected)を判定するアルゴリズム。\n",
        "例えば、union(1,6)、union(5,6)、union(2,7)、union(3,8)、union(4,9)、union(8,9)とすると以下のようになる。\n",
        "\n",
        "---\n",
        "\n",
        "http://prd-xxx.hateblo.jp/entry/2017/10/19/205331\n",
        ">Union-Findを使って解いた。\n",
        "> Union-Findは、競プロ歴5ヶ月の私が知ってる知識をざっくり説明すると、\n",
        "> \n",
        "> グラフのある頂点とある頂点が繋がってるかどうか高速に判定するよ\n",
        "> 辺がない状態から、辺を追加しながら構築するよ。構築の途中でも判定できるよ\n",
        "> 判定も追加もほぼ定数時間(ちょうはやい)。アッカーマン関数(とてもでかい)の逆数だとか\n",
        "> 初期化するのだけO(N)かかるよ(N:頂点数)\n",
        "> 上記コード中に出てきたroot()、is_same()、unite()がUnion-Findだけど、 \n",
        "> スニペットに入れてたやつそのままなのでかなり楽できた。\n",
        "> \n",
        "> あとは、全ての辺をループして、辺eを除いたグラフでUnion-Findを構築して、\n",
        "> 辺eの両端が繋がってるかを判定していけばいい。\n",
        "> \n",
        "> 計算量は、辺ごとにUnion-Find初期化+構築でO(N+M)なので全体でO(M(N+M))かな？\n",
        "> NもMも小さいので大丈夫！"
      ]
    },
    {
      "metadata": {
        "id": "e1Lj2fmKcqZ1",
        "colab_type": "text"
      },
      "cell_type": "markdown",
      "source": [
        "まず、0,1,..,N-1の配列を用意する (parent)\n",
        "\n",
        "uniteでつながっているかがわかる"
      ]
    },
    {
      "metadata": {
        "id": "uZf-R7SbcnCb",
        "colab_type": "code",
        "colab": {}
      },
      "cell_type": "code",
      "source": [
        "N,M = map(int,input().split())\n",
        "es = []\n",
        "for i in range(M):\n",
        "    a,b = map(int,input().split())\n",
        "    a,b = a-1, b-1\n",
        "    es.append((a,b))\n",
        " \n",
        "parent = None\n",
        "def root(a):\n",
        "    if parent[a] == a: #自分自身が親である\n",
        "        return a #そのまま\n",
        "    else:\n",
        "        parent[a] = root(parent[a]) #自分が親でない場合は親を読み出す\n",
        "        return parent[a]\n",
        "        \n",
        "def is_same(a,b):\n",
        "    return root(a) == root(b)\n",
        "    \n",
        "def unite(a,b):\n",
        "    ra = root(a)\n",
        "    rb = root(b)\n",
        "    if ra == rb: return\n",
        "    parent[ra] = rb;\n",
        " \n",
        "ans = 0\n",
        "for i in range(M):\n",
        "    parent = [k for k in range(N)]\n",
        "    for j,e in enumerate(es):\n",
        "        if j == i: continue\n",
        "        a,b = e\n",
        "        unite(a,b)\n",
        "    a,b = es[i]\n",
        "    if not is_same(a,b):\n",
        "        ans += 1\n",
        "print(ans)"
      ],
      "execution_count": 0,
      "outputs": []
    }
  ]
}