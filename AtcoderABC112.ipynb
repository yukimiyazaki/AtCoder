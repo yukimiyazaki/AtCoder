{
  "nbformat": 4,
  "nbformat_minor": 0,
  "metadata": {
    "colab": {
      "name": "AtcoderABC112.ipynb",
      "version": "0.3.2",
      "provenance": [],
      "collapsed_sections": [],
      "include_colab_link": true
    },
    "kernelspec": {
      "name": "python3",
      "display_name": "Python 3"
    }
  },
  "cells": [
    {
      "cell_type": "markdown",
      "metadata": {
        "id": "view-in-github",
        "colab_type": "text"
      },
      "source": [
        "<a href=\"https://colab.research.google.com/github/yukimiyazaki/AtCoder/blob/master/AtcoderABC112.ipynb\" target=\"_parent\"><img src=\"https://colab.research.google.com/assets/colab-badge.svg\" alt=\"Open In Colab\"/></a>"
      ]
    },
    {
      "metadata": {
        "id": "5qq3igqXUf2q",
        "colab_type": "text"
      },
      "cell_type": "markdown",
      "source": [
        "https://beta.atcoder.jp/contests/abc112/tasks"
      ]
    },
    {
      "metadata": {
        "id": "-44KCsWaUCaD",
        "colab_type": "text"
      },
      "cell_type": "markdown",
      "source": [
        "# A"
      ]
    },
    {
      "metadata": {
        "id": "dCx8Pa3oTxO6",
        "colab_type": "code",
        "colab": {}
      },
      "cell_type": "code",
      "source": [
        "# -*- coding: utf-8 -*-\n",
        "# 整数の入力\n",
        "N = int(input())\n",
        "if N==1:\n",
        "  print(\"Hello World\")\n",
        "else:\n",
        "  a = int(input())\n",
        "  b = int(input())\n",
        "  print(a+b)"
      ],
      "execution_count": 0,
      "outputs": []
    },
    {
      "metadata": {
        "id": "9nuKcRyYUKQu",
        "colab_type": "text"
      },
      "cell_type": "markdown",
      "source": [
        "# B"
      ]
    },
    {
      "metadata": {
        "id": "Ll1HCwrKUDab",
        "colab_type": "code",
        "colab": {}
      },
      "cell_type": "code",
      "source": [
        "# -*- coding: utf-8 -*-\n",
        "# 整数の入力\n",
        "N, T = map(int, input().split())\n",
        "cost = 10000\n",
        "for i in range(N):\n",
        "  ci, ti = map(int, input().split())\n",
        "  if ti <= T:\n",
        "    if ci <= cost:\n",
        "      cost = ci\n",
        " \n",
        "if(cost == 10000):\n",
        "  print('TLE')\n",
        "else:\n",
        "  print(cost)"
      ],
      "execution_count": 0,
      "outputs": []
    },
    {
      "metadata": {
        "id": "8A4o89g6VXxw",
        "colab_type": "code",
        "colab": {}
      },
      "cell_type": "code",
      "source": [
        "#別解\n",
        "N,T = map(int,input().split())\n",
        "L = list(tuple(map(int,input().split())) for _ in range(N))\n",
        "print(min((c for c,t in L if t <= T), default='TLE'))"
      ],
      "execution_count": 0,
      "outputs": []
    },
    {
      "metadata": {
        "id": "K-hTgD0PUQcY",
        "colab_type": "text"
      },
      "cell_type": "markdown",
      "source": [
        "# C\n",
        "\n",
        "---\n",
        "sort"
      ]
    },
    {
      "metadata": {
        "id": "pQICPu4mUNbZ",
        "colab_type": "code",
        "colab": {}
      },
      "cell_type": "code",
      "source": [
        "N = int(input())\n",
        "arr = [list(map(int, input().split())) for _ in range(N)]\n",
        "arr.sort(key=lambda l:-l[2])\n",
        " \n",
        "for cx in range(101):\n",
        "  for cy in range(101):\n",
        "    ch = None\n",
        "    for x, y, h in arr:\n",
        "      t = h + abs(cx-x) + abs(cy-y)\n",
        "      if h > 0:\n",
        "        if ch is not None and t != ch:\n",
        "          break\n",
        "        ch = t\n",
        "      else:\n",
        "        if t < ch:\n",
        "          break\n",
        "    else:\n",
        "      print(cx, cy, ch)\n",
        "      exit()"
      ],
      "execution_count": 0,
      "outputs": []
    },
    {
      "metadata": {
        "id": "nL4F_D36Vdra",
        "colab_type": "code",
        "colab": {}
      },
      "cell_type": "code",
      "source": [
        "#別解\n",
        "N = int(input())\n",
        "x = []\n",
        "y = []\n",
        "h = []\n",
        "for i in range(N):\n",
        "    a,b,c = map(int,input().split())\n",
        "    if c>0: idx_0 = i\n",
        "    x.append(a)\n",
        "    y.append(b)\n",
        "    h.append(c)\n",
        "for cx in range(101):\n",
        "    for cy in range(101):\n",
        "        H = h[idx_0] + abs(x[idx_0]-cx) + abs(y[idx_0]-cy)\n",
        "        cnt = 0\n",
        "        for k in range(N):"
      ],
      "execution_count": 0,
      "outputs": []
    }
  ]
}