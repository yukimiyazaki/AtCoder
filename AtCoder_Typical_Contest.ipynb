{
  "nbformat": 4,
  "nbformat_minor": 0,
  "metadata": {
    "colab": {
      "name": "AtCoder_Typical_Contest.ipynb",
      "version": "0.3.2",
      "provenance": [],
      "collapsed_sections": [],
      "include_colab_link": true
    },
    "kernelspec": {
      "name": "python3",
      "display_name": "Python 3"
    }
  },
  "cells": [
    {
      "cell_type": "markdown",
      "metadata": {
        "id": "view-in-github",
        "colab_type": "text"
      },
      "source": [
        "<a href=\"https://colab.research.google.com/github/yukimiyazaki/AtCoder/blob/master/AtCoder_Typical_Contest.ipynb\" target=\"_parent\"><img src=\"https://colab.research.google.com/assets/colab-badge.svg\" alt=\"Open In Colab\"/></a>"
      ]
    },
    {
      "metadata": {
        "id": "svGjLr2gnzdt",
        "colab_type": "text"
      },
      "cell_type": "markdown",
      "source": [
        "[A - 深さ優先探索](https://atc001.contest.atcoder.jp/tasks/dfs_a)\n",
        "\n",
        "\n",
        "---\n",
        "\n",
        "\n",
        "入力は以下の形式で標準入力から与えられる。\n",
        "\n",
        "H W\n",
        "c0,0 c0,1 c0,W−1\n",
        "c1,0 c1,1 c1,W−1\n",
        ":\n",
        "cH−1,0 cH−1,1 cH−1,W−1\n",
        "\n",
        "\n",
        "---\n",
        "\n",
        "\n",
        "1 行目には、街の南北の長さとして整数 H(1≦H≦500) と東西の長さとして整数 W(1≦W≦500) が空白で区切られて与えられる。\n",
        "2 行目からの H 行には、格子状の街の各区画における状態 ci,j(0≦i≦H−1,0≦j≦W−1) が与えられる。\n",
        "i 行目 j 文字目の文字 ci,j はそれぞれ s, g, ., # のいずれかで与えられ、座標 (j,i) が下記のような状態であることを表す。\n",
        "s : その区画が家であることを表す。\n",
        "g : その区画が魚屋であることを表す。\n",
        ". : その区画が道であることを表す。\n",
        " シャープ : その区画が塀であることを表す。\n",
        "高橋君は家・魚屋・道は通ることができるが、塀は通ることができない。\n",
        "与えられた街の外を通ることはできない。\n",
        "s と g はそれぞれ 1 つずつ与えられる。\n"
      ]
    },
    {
      "metadata": {
        "id": "_Zcu-ESGm-tc",
        "colab_type": "code",
        "colab": {
          "base_uri": "https://localhost:8080/",
          "height": 102
        },
        "outputId": "3dd1c355-5c64-43f8-8ccd-fd38a16710af"
      },
      "cell_type": "code",
      "source": [
        "H, W = map(int, input().split())\n",
        "town =[list(input()) for _ in range(H)]"
      ],
      "execution_count": 2,
      "outputs": [
        {
          "output_type": "stream",
          "text": [
            "4 5\n",
            "s####\n",
            "....#\n",
            "#####\n",
            "#...g\n"
          ],
          "name": "stdout"
        }
      ]
    },
    {
      "metadata": {
        "id": "bTOO9T6GpfpM",
        "colab_type": "code",
        "colab": {
          "base_uri": "https://localhost:8080/",
          "height": 85
        },
        "outputId": "f4bb30ac-1f8b-4563-a481-ed7e0355e6a5"
      },
      "cell_type": "code",
      "source": [
        "reached = [[False]*W for i in range(H)]\n",
        "reached"
      ],
      "execution_count": 7,
      "outputs": [
        {
          "output_type": "execute_result",
          "data": {
            "text/plain": [
              "[[False, False, False, False, False],\n",
              " [False, False, False, False, False],\n",
              " [False, False, False, False, False],\n",
              " [False, False, False, False, False]]"
            ]
          },
          "metadata": {
            "tags": []
          },
          "execution_count": 7
        }
      ]
    },
    {
      "metadata": {
        "id": "OZlkHiMZny-3",
        "colab_type": "code",
        "colab": {}
      },
      "cell_type": "code",
      "source": [
        "def dfs(x, y):\n",
        "    if x < 0 or x >= W or y < 0 or y >= H or town[y][x] == \"#\": #壁か迷路の外\n",
        "        return False\n",
        "    if reached[y][x]: #(=True)すでに一度到達している\n",
        "        return False\n",
        "    reached[y][x] = True #到達したことを記録\n",
        "    if town[y][x] == \"g\": #Goalで終了\n",
        "        return True\n",
        "    return dfs(x+1, y) or dfs(x-1, y) or dfs(x, y+1) or dfs(x, y-1) #4方向を試す"
      ],
      "execution_count": 0,
      "outputs": []
    },
    {
      "metadata": {
        "id": "YWkRy3YZqzrz",
        "colab_type": "code",
        "colab": {}
      },
      "cell_type": "code",
      "source": [
        "for y in range(H):\n",
        "    for x in range(W):\n",
        "        if town[y][x] == \"s\":\n",
        "            s = [x, y]"
      ],
      "execution_count": 0,
      "outputs": []
    },
    {
      "metadata": {
        "id": "ONitoCAxrSEt",
        "colab_type": "code",
        "colab": {
          "base_uri": "https://localhost:8080/",
          "height": 34
        },
        "outputId": "28a7491e-fa88-4d40-e196-b99435ed29b5"
      },
      "cell_type": "code",
      "source": [
        "s"
      ],
      "execution_count": 11,
      "outputs": [
        {
          "output_type": "execute_result",
          "data": {
            "text/plain": [
              "[0, 0]"
            ]
          },
          "metadata": {
            "tags": []
          },
          "execution_count": 11
        }
      ]
    },
    {
      "metadata": {
        "id": "hNenx4zkrYZd",
        "colab_type": "code",
        "colab": {
          "base_uri": "https://localhost:8080/",
          "height": 85
        },
        "outputId": "5dba9090-1ee6-4618-ca00-e018df516ce2"
      },
      "cell_type": "code",
      "source": [
        "reached"
      ],
      "execution_count": 12,
      "outputs": [
        {
          "output_type": "execute_result",
          "data": {
            "text/plain": [
              "[[False, False, False, False, False],\n",
              " [False, False, False, False, False],\n",
              " [False, False, False, False, False],\n",
              " [False, False, False, False, False]]"
            ]
          },
          "metadata": {
            "tags": []
          },
          "execution_count": 12
        }
      ]
    },
    {
      "metadata": {
        "id": "i24pExthrZ_N",
        "colab_type": "code",
        "colab": {
          "base_uri": "https://localhost:8080/",
          "height": 34
        },
        "outputId": "a98c3e94-9f16-4207-a2cb-ad10becc2227"
      },
      "cell_type": "code",
      "source": [
        "dfs(s[0], s[1])"
      ],
      "execution_count": 17,
      "outputs": [
        {
          "output_type": "execute_result",
          "data": {
            "text/plain": [
              "False"
            ]
          },
          "metadata": {
            "tags": []
          },
          "execution_count": 17
        }
      ]
    },
    {
      "metadata": {
        "id": "O5aIteyLr2Xv",
        "colab_type": "code",
        "colab": {
          "base_uri": "https://localhost:8080/",
          "height": 85
        },
        "outputId": "79d2bdfd-f639-4f03-823a-afa772405dd1"
      },
      "cell_type": "code",
      "source": [
        "reached"
      ],
      "execution_count": 19,
      "outputs": [
        {
          "output_type": "execute_result",
          "data": {
            "text/plain": [
              "[[True, False, False, False, False],\n",
              " [False, False, False, False, False],\n",
              " [False, False, False, False, False],\n",
              " [False, False, False, False, False]]"
            ]
          },
          "metadata": {
            "tags": []
          },
          "execution_count": 19
        }
      ]
    },
    {
      "metadata": {
        "id": "w1_j8-tQrgm_",
        "colab_type": "code",
        "colab": {}
      },
      "cell_type": "code",
      "source": [
        "if dfs(s[0], s[1]):\n",
        "    print(\"Yes\")\n",
        "else:\n",
        "    print(\"No\")"
      ],
      "execution_count": 0,
      "outputs": []
    },
    {
      "metadata": {
        "id": "IqIZ8DOFts5v",
        "colab_type": "text"
      },
      "cell_type": "markdown",
      "source": [
        "[提出](https://atc001.contest.atcoder.jp/submissions/4358181)\n",
        "\n",
        "ランタイムエラーが出たので\n",
        "\n",
        "\n",
        "```\n",
        "import sys\n",
        "sys.setrecursionlimit(1000000)\n",
        "```\n",
        "\n",
        "を追加した。\n"
      ]
    },
    {
      "metadata": {
        "id": "yiyua3zXsh9M",
        "colab_type": "text"
      },
      "cell_type": "markdown",
      "source": [
        "[A - 幅優先探索](https://atcoder.jp/contests/atc002/tasks/abc007_3)"
      ]
    },
    {
      "metadata": {
        "id": "xEEexTLDsfHK",
        "colab_type": "code",
        "colab": {}
      },
      "cell_type": "code",
      "source": [
        ""
      ],
      "execution_count": 0,
      "outputs": []
    }
  ]
}