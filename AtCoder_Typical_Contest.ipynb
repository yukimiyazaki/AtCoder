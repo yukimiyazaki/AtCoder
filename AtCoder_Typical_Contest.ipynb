{
  "nbformat": 4,
  "nbformat_minor": 0,
  "metadata": {
    "colab": {
      "name": "AtCoder_Typical_Contest.ipynb",
      "version": "0.3.2",
      "provenance": [],
      "collapsed_sections": [],
      "include_colab_link": true
    },
    "kernelspec": {
      "name": "python3",
      "display_name": "Python 3"
    }
  },
  "cells": [
    {
      "cell_type": "markdown",
      "metadata": {
        "id": "view-in-github",
        "colab_type": "text"
      },
      "source": [
        "<a href=\"https://colab.research.google.com/github/yukimiyazaki/AtCoder/blob/master/AtCoder_Typical_Contest.ipynb\" target=\"_parent\"><img src=\"https://colab.research.google.com/assets/colab-badge.svg\" alt=\"Open In Colab\"/></a>"
      ]
    },
    {
      "metadata": {
        "id": "svGjLr2gnzdt",
        "colab_type": "text"
      },
      "cell_type": "markdown",
      "source": [
        "[A - 深さ優先探索](https://atc001.contest.atcoder.jp/tasks/dfs_a)\n",
        "\n",
        "\n",
        "---\n",
        "\n",
        "\n",
        "入力は以下の形式で標準入力から与えられる。\n",
        "\n",
        "H W\n",
        "c0,0 c0,1 c0,W−1\n",
        "c1,0 c1,1 c1,W−1\n",
        ":\n",
        "cH−1,0 cH−1,1 cH−1,W−1\n",
        "\n",
        "\n",
        "---\n",
        "\n",
        "\n",
        "1 行目には、街の南北の長さとして整数 H(1≦H≦500) と東西の長さとして整数 W(1≦W≦500) が空白で区切られて与えられる。\n",
        "2 行目からの H 行には、格子状の街の各区画における状態 ci,j(0≦i≦H−1,0≦j≦W−1) が与えられる。\n",
        "i 行目 j 文字目の文字 ci,j はそれぞれ s, g, ., # のいずれかで与えられ、座標 (j,i) が下記のような状態であることを表す。\n",
        "s : その区画が家であることを表す。\n",
        "g : その区画が魚屋であることを表す。\n",
        ". : その区画が道であることを表す。\n",
        " シャープ : その区画が塀であることを表す。\n",
        "高橋君は家・魚屋・道は通ることができるが、塀は通ることができない。\n",
        "与えられた街の外を通ることはできない。\n",
        "s と g はそれぞれ 1 つずつ与えられる。\n"
      ]
    },
    {
      "metadata": {
        "id": "_Zcu-ESGm-tc",
        "colab_type": "code",
        "outputId": "3dd1c355-5c64-43f8-8ccd-fd38a16710af",
        "colab": {
          "base_uri": "https://localhost:8080/",
          "height": 102
        }
      },
      "cell_type": "code",
      "source": [
        "H, W = map(int, input().split())\n",
        "town =[list(input()) for _ in range(H)]"
      ],
      "execution_count": 0,
      "outputs": [
        {
          "output_type": "stream",
          "text": [
            "4 5\n",
            "s####\n",
            "....#\n",
            "#####\n",
            "#...g\n"
          ],
          "name": "stdout"
        }
      ]
    },
    {
      "metadata": {
        "id": "bTOO9T6GpfpM",
        "colab_type": "code",
        "outputId": "f4bb30ac-1f8b-4563-a481-ed7e0355e6a5",
        "colab": {
          "base_uri": "https://localhost:8080/",
          "height": 85
        }
      },
      "cell_type": "code",
      "source": [
        "reached = [[False]*W for i in range(H)]\n",
        "reached"
      ],
      "execution_count": 0,
      "outputs": [
        {
          "output_type": "execute_result",
          "data": {
            "text/plain": [
              "[[False, False, False, False, False],\n",
              " [False, False, False, False, False],\n",
              " [False, False, False, False, False],\n",
              " [False, False, False, False, False]]"
            ]
          },
          "metadata": {
            "tags": []
          },
          "execution_count": 7
        }
      ]
    },
    {
      "metadata": {
        "id": "OZlkHiMZny-3",
        "colab_type": "code",
        "colab": {}
      },
      "cell_type": "code",
      "source": [
        "def dfs(x, y):\n",
        "    if x < 0 or x >= W or y < 0 or y >= H or town[y][x] == \"#\": #壁か迷路の外\n",
        "        return False\n",
        "    if reached[y][x]: #(=True)すでに一度到達している\n",
        "        return False\n",
        "    reached[y][x] = True #到達したことを記録\n",
        "    if town[y][x] == \"g\": #Goalで終了\n",
        "        return True\n",
        "    return dfs(x+1, y) or dfs(x-1, y) or dfs(x, y+1) or dfs(x, y-1) #4方向を試す"
      ],
      "execution_count": 0,
      "outputs": []
    },
    {
      "metadata": {
        "id": "YWkRy3YZqzrz",
        "colab_type": "code",
        "colab": {}
      },
      "cell_type": "code",
      "source": [
        "for y in range(H):\n",
        "    for x in range(W):\n",
        "        if town[y][x] == \"s\":\n",
        "            s = [x, y]"
      ],
      "execution_count": 0,
      "outputs": []
    },
    {
      "metadata": {
        "id": "ONitoCAxrSEt",
        "colab_type": "code",
        "outputId": "28a7491e-fa88-4d40-e196-b99435ed29b5",
        "colab": {
          "base_uri": "https://localhost:8080/",
          "height": 34
        }
      },
      "cell_type": "code",
      "source": [
        "s"
      ],
      "execution_count": 0,
      "outputs": [
        {
          "output_type": "execute_result",
          "data": {
            "text/plain": [
              "[0, 0]"
            ]
          },
          "metadata": {
            "tags": []
          },
          "execution_count": 11
        }
      ]
    },
    {
      "metadata": {
        "id": "hNenx4zkrYZd",
        "colab_type": "code",
        "outputId": "5dba9090-1ee6-4618-ca00-e018df516ce2",
        "colab": {
          "base_uri": "https://localhost:8080/",
          "height": 85
        }
      },
      "cell_type": "code",
      "source": [
        "reached"
      ],
      "execution_count": 0,
      "outputs": [
        {
          "output_type": "execute_result",
          "data": {
            "text/plain": [
              "[[False, False, False, False, False],\n",
              " [False, False, False, False, False],\n",
              " [False, False, False, False, False],\n",
              " [False, False, False, False, False]]"
            ]
          },
          "metadata": {
            "tags": []
          },
          "execution_count": 12
        }
      ]
    },
    {
      "metadata": {
        "id": "i24pExthrZ_N",
        "colab_type": "code",
        "outputId": "a98c3e94-9f16-4207-a2cb-ad10becc2227",
        "colab": {
          "base_uri": "https://localhost:8080/",
          "height": 34
        }
      },
      "cell_type": "code",
      "source": [
        "dfs(s[0], s[1])"
      ],
      "execution_count": 0,
      "outputs": [
        {
          "output_type": "execute_result",
          "data": {
            "text/plain": [
              "False"
            ]
          },
          "metadata": {
            "tags": []
          },
          "execution_count": 17
        }
      ]
    },
    {
      "metadata": {
        "id": "O5aIteyLr2Xv",
        "colab_type": "code",
        "outputId": "79d2bdfd-f639-4f03-823a-afa772405dd1",
        "colab": {
          "base_uri": "https://localhost:8080/",
          "height": 85
        }
      },
      "cell_type": "code",
      "source": [
        "reached"
      ],
      "execution_count": 0,
      "outputs": [
        {
          "output_type": "execute_result",
          "data": {
            "text/plain": [
              "[[True, False, False, False, False],\n",
              " [False, False, False, False, False],\n",
              " [False, False, False, False, False],\n",
              " [False, False, False, False, False]]"
            ]
          },
          "metadata": {
            "tags": []
          },
          "execution_count": 19
        }
      ]
    },
    {
      "metadata": {
        "id": "w1_j8-tQrgm_",
        "colab_type": "code",
        "colab": {}
      },
      "cell_type": "code",
      "source": [
        "if dfs(s[0], s[1]):\n",
        "    print(\"Yes\")\n",
        "else:\n",
        "    print(\"No\")"
      ],
      "execution_count": 0,
      "outputs": []
    },
    {
      "metadata": {
        "id": "IqIZ8DOFts5v",
        "colab_type": "text"
      },
      "cell_type": "markdown",
      "source": [
        "[提出](https://atc001.contest.atcoder.jp/submissions/4358181)\n",
        "\n",
        "ランタイムエラーが出たので\n",
        "\n",
        "\n",
        "```\n",
        "import sys\n",
        "sys.setrecursionlimit(1000000)\n",
        "```\n",
        "\n",
        "を追加した。\n"
      ]
    },
    {
      "metadata": {
        "id": "yiyua3zXsh9M",
        "colab_type": "text"
      },
      "cell_type": "markdown",
      "source": [
        "[A - 幅優先探索](https://atcoder.jp/contests/atc002/tasks/abc007_3)"
      ]
    },
    {
      "metadata": {
        "id": "xEEexTLDsfHK",
        "colab_type": "code",
        "outputId": "5a7fc35b-5031-41ae-c124-b75fd8ae17dd",
        "colab": {
          "base_uri": "https://localhost:8080/",
          "height": 153
        }
      },
      "cell_type": "code",
      "source": [
        "#First In First Outのキュー\n",
        "from collections import deque #dequeを用いる\n",
        " \n",
        "#入力\n",
        "R,C= map(int,input().split())\n",
        "sy,sx = map(int,input().split())\n",
        "gy,gx= map(int,input().split())\n",
        "c= [input() for _ in range(R)]"
      ],
      "execution_count": 58,
      "outputs": [
        {
          "output_type": "stream",
          "text": [
            "5 8\n",
            "2 2\n",
            "2 4\n",
            "########\n",
            "#.#....#\n",
            "#.###..#\n",
            "#......#\n",
            "########\n"
          ],
          "name": "stdout"
        }
      ]
    },
    {
      "metadata": {
        "id": "GdFTBQnEoApi",
        "colab_type": "code",
        "colab": {
          "base_uri": "https://localhost:8080/",
          "height": 153
        },
        "outputId": "1fc72b7d-1ba8-478e-99ea-3a6949aea3b9"
      },
      "cell_type": "code",
      "source": [
        "#First In First Outのキュー\n",
        "from collections import deque #dequeを用いる\n",
        " \n",
        "#入力\n",
        "R,C= map(int,input().split())\n",
        "sy,sx = map(int,input().split())\n",
        "gy,gx= map(int,input().split())\n",
        "c= [list(input()) for _ in range(R)]"
      ],
      "execution_count": 76,
      "outputs": [
        {
          "output_type": "stream",
          "text": [
            "5 8\n",
            "2 2\n",
            "2 4\n",
            "########\n",
            "#.#....#\n",
            "#.###..#\n",
            "#......#\n",
            "########\n"
          ],
          "name": "stdout"
        }
      ]
    },
    {
      "metadata": {
        "id": "-zWQZi5LoM-8",
        "colab_type": "code",
        "colab": {
          "base_uri": "https://localhost:8080/",
          "height": 102
        },
        "outputId": "5d1ca10a-4a97-4b90-c2bf-d0d8b0f3d047"
      },
      "cell_type": "code",
      "source": [
        "c"
      ],
      "execution_count": 77,
      "outputs": [
        {
          "output_type": "execute_result",
          "data": {
            "text/plain": [
              "[['#', '#', '#', '#', '#', '#', '#', '#'],\n",
              " ['#', '.', '#', '.', '.', '.', '.', '#'],\n",
              " ['#', '.', '#', '#', '#', '.', '.', '#'],\n",
              " ['#', '.', '.', '.', '.', '.', '.', '#'],\n",
              " ['#', '#', '#', '#', '#', '#', '#', '#']]"
            ]
          },
          "metadata": {
            "tags": []
          },
          "execution_count": 77
        }
      ]
    },
    {
      "metadata": {
        "id": "bBCHaCzeFR43",
        "colab_type": "code",
        "outputId": "c2c33a15-41e7-4b98-f020-3ad682cd5363",
        "colab": {
          "base_uri": "https://localhost:8080/",
          "height": 34
        }
      },
      "cell_type": "code",
      "source": [
        "c[3][1]"
      ],
      "execution_count": 78,
      "outputs": [
        {
          "output_type": "execute_result",
          "data": {
            "text/plain": [
              "'.'"
            ]
          },
          "metadata": {
            "tags": []
          },
          "execution_count": 78
        }
      ]
    },
    {
      "metadata": {
        "id": "fkHzZ355n1xJ",
        "colab_type": "code",
        "colab": {}
      },
      "cell_type": "code",
      "source": [
        "c[3][1] = '@'"
      ],
      "execution_count": 0,
      "outputs": []
    },
    {
      "metadata": {
        "id": "yLo6_3uKonsN",
        "colab_type": "code",
        "colab": {
          "base_uri": "https://localhost:8080/",
          "height": 102
        },
        "outputId": "4cd631d5-dd0e-4bb1-8cf8-5165862303f9"
      },
      "cell_type": "code",
      "source": [
        "c"
      ],
      "execution_count": 80,
      "outputs": [
        {
          "output_type": "execute_result",
          "data": {
            "text/plain": [
              "[['#', '#', '#', '#', '#', '#', '#', '#'],\n",
              " ['#', '.', '#', '.', '.', '.', '.', '#'],\n",
              " ['#', '.', '#', '#', '#', '.', '.', '#'],\n",
              " ['#', '@', '.', '.', '.', '.', '.', '#'],\n",
              " ['#', '#', '#', '#', '#', '#', '#', '#']]"
            ]
          },
          "metadata": {
            "tags": []
          },
          "execution_count": 80
        }
      ]
    },
    {
      "metadata": {
        "id": "sXM848t8aJjr",
        "colab_type": "code",
        "colab": {
          "base_uri": "https://localhost:8080/",
          "height": 34
        },
        "outputId": "ef73f732-0f16-408b-83ff-ce5b9785c037"
      },
      "cell_type": "code",
      "source": [
        "que = deque() #キューに要素を追加するときはque.append([i,j])、取り出すときはque.popleft()\n",
        "que.append([sx-1,sy-1,0]) #初期値\n",
        "\n",
        "que"
      ],
      "execution_count": 68,
      "outputs": [
        {
          "output_type": "execute_result",
          "data": {
            "text/plain": [
              "deque([[1, 1, 0]])"
            ]
          },
          "metadata": {
            "tags": []
          },
          "execution_count": 68
        }
      ]
    },
    {
      "metadata": {
        "id": "IHv4q_LeZmDA",
        "colab_type": "code",
        "colab": {}
      },
      "cell_type": "code",
      "source": [
        "dxy = [[1, 0], [0, 1], [-1, 0], [0, -1]] # ↓、→、←、↑"
      ],
      "execution_count": 0,
      "outputs": []
    },
    {
      "metadata": {
        "id": "_rFSVChzi_Iv",
        "colab_type": "code",
        "colab": {}
      },
      "cell_type": "code",
      "source": [
        "x,y,tmp = que.popleft() #キューから要素を取り出す（座標を取り出す）\n",
        "    \n",
        "for dx,dy in dxy: #(x,y)→(next_x,next_y)の1マス分の移動を考える（上下左右で4パターン存在）\n",
        "      \n",
        "  if (0 <= x+dx < C) & (0 <= y+dy < R) & (c[y+dy][x+dx]=='.'): #移動先は行列内 かつ 空きマスの場合\n",
        "    que.append([x+dx,y+dy,tmp+1]) #キューに移動先を追加して、移動先の手数を+1する\n",
        "    \n",
        "  if (x+dx == gx-1) & (y+dy == gy-1): #移動先がゴール地点になったら終了\n",
        "    print(gx, gy, tmp+1)"
      ],
      "execution_count": 0,
      "outputs": []
    },
    {
      "metadata": {
        "id": "aj4TTCjijLBs",
        "colab_type": "code",
        "colab": {
          "base_uri": "https://localhost:8080/",
          "height": 34
        },
        "outputId": "cfd1c157-a25b-42a5-e9a7-0ad85f801558"
      },
      "cell_type": "code",
      "source": [
        "que"
      ],
      "execution_count": 70,
      "outputs": [
        {
          "output_type": "execute_result",
          "data": {
            "text/plain": [
              "deque([[1, 2, 1]])"
            ]
          },
          "metadata": {
            "tags": []
          },
          "execution_count": 70
        }
      ]
    },
    {
      "metadata": {
        "id": "flJxUqoSkquW",
        "colab_type": "text"
      },
      "cell_type": "markdown",
      "source": [
        "[提出1](https://atcoder.jp/contests/atc002/submissions/4512119)\n",
        "\n",
        "[提出2](https://atcoder.jp/contests/atc002/submissions/4512147)\n",
        "\n",
        "提出2では、提出1を改良し、訪問済みを壁にすることでコードが見やすくなった"
      ]
    },
    {
      "metadata": {
        "id": "HsJyhI96qHJA",
        "colab_type": "code",
        "colab": {}
      },
      "cell_type": "code",
      "source": [
        "#First In First Outのキュー\n",
        "from collections import deque #dequeを用いる\n",
        " \n",
        "#入力\n",
        "R,C= map(int,input().split())\n",
        "sy,sx = map(int,input().split())\n",
        "gy,gx= map(int,input().split())\n",
        "c= [list(input()) for _ in range(R)] #訪問先を変更するために、listにする\n",
        "#https://minus9d.hatenablog.com/entry/20130528/1369745960\n",
        "\"\"\"\n",
        "[['#', '#', '#', '#', '#', '#', '#', '#'],\n",
        " ['#', '.', '#', '.', '.', '.', '.', '#'],\n",
        " ['#', '.', '#', '#', '#', '.', '.', '#'],\n",
        " ['#', '.', '.', '.', '.', '.', '.', '#'],\n",
        " ['#', '#', '#', '#', '#', '#', '#', '#']]\n",
        " \"\"\"\n",
        " \n",
        "que = deque() #キューに要素を追加するときはque.append([i,j])、取り出すときはque.popleft()\n",
        "que.append([sx-1,sy-1,0]) #初期値\n",
        " \n",
        "dxy = [[1, 0], [0, 1], [-1, 0], [0, -1]] # ↓、→、←、↑\n",
        " \n",
        "#bfs キューから取り出し、移動先をキューに追加、キューから取り出し、移動先をキューに追加...を繰り返す\n",
        "while que: #ゴールに着くまでにキューの要素がなくなったらゴール不可\n",
        "    \n",
        "    x,y,tmp = que.popleft() #キューから要素を取り出す（座標を取り出す）\n",
        "    \n",
        "    for dx,dy in dxy: #(x,y)→(next_x,next_y)の1マス分の移動を考える（上下左右で4パターン存在）\n",
        "      \n",
        "      if 0 <= x+dx < C and 0 <= y+dy < R and c[y+dy][x+dx]=='.': #(移動先は行列内) かつ (空きマスの場合)\n",
        "        que.append([x+dx,y+dy,tmp+1]) #キューに移動先を追加して、移動先の手数を+1する\n",
        "        c[y+dy][x+dx] = '@' #訪問済みに置換する\n",
        "        if x+dx == gx-1 and y+dy == gy-1: #移動先がゴール地点になったら終了\n",
        "          print(tmp+1)\n",
        "          exit()"
      ],
      "execution_count": 0,
      "outputs": []
    },
    {
      "metadata": {
        "id": "7oLUksWmfQd5",
        "colab_type": "code",
        "colab": {}
      },
      "cell_type": "code",
      "source": [
        "#First In First Outのキュー\n",
        "from collections import deque #dequeを用いる\n",
        " \n",
        "#入力\n",
        "R,C= map(int,input().split())\n",
        "sy,sx = map(int,input().split())\n",
        "gy,gx= map(int,input().split())\n",
        "c= [list(input()) for _ in range(R)] #訪問先を変更するために、listにする\n",
        "#https://minus9d.hatenablog.com/entry/20130528/1369745960\n",
        "\"\"\"\n",
        "[['#', '#', '#', '#', '#', '#', '#', '#'],\n",
        " ['#', '.', '#', '.', '.', '.', '.', '#'],\n",
        " ['#', '.', '#', '#', '#', '.', '.', '#'],\n",
        " ['#', '.', '.', '.', '.', '.', '.', '#'],\n",
        " ['#', '#', '#', '#', '#', '#', '#', '#']]\n",
        " \"\"\"\n",
        " \n",
        "que = deque() #キューに要素を追加するときはque.append([i,j])、取り出すときはque.popleft()\n",
        "que.append([sx-1,sy-1,0]) #初期値\n",
        " \n",
        "dxy = [[1, 0], [0, 1], [-1, 0], [0, -1]] # ↓、→、←、↑\n",
        " \n",
        "#bfs キューから取り出し、移動先をキューに追加、キューから取り出し、移動先をキューに追加...を繰り返す\n",
        "while que: #ゴールに着くまでにキューの要素がなくなったらゴール不可\n",
        "    \n",
        "    x,y,tmp = que.popleft() #キューから要素を取り出す（座標を取り出す）\n",
        "    \n",
        "    for dx,dy in dxy: #(x,y)→(next_x,next_y)の1マス分の移動を考える（上下左右で4パターン存在）\n",
        "      \n",
        "      if c[y+dy][x+dx]=='.': #空きマスの場合\n",
        "        que.append([x+dx,y+dy,tmp+1]) #キューに移動先を追加して、移動先の手数を+1する\n",
        "        c[y+dy][x+dx] = '#' #訪問済みは壁に置換する\n",
        "        if x+dx == gx-1 and y+dy == gy-1: #移動先がゴール地点になったら終了\n",
        "          print(tmp+1)\n",
        "          exit()"
      ],
      "execution_count": 0,
      "outputs": []
    }
  ]
}