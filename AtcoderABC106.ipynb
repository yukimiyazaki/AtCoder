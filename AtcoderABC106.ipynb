{
  "nbformat": 4,
  "nbformat_minor": 0,
  "metadata": {
    "colab": {
      "name": "AtcoderABC106.ipynb",
      "version": "0.3.2",
      "provenance": [],
      "collapsed_sections": [],
      "include_colab_link": true
    },
    "kernelspec": {
      "name": "python3",
      "display_name": "Python 3"
    }
  },
  "cells": [
    {
      "cell_type": "markdown",
      "metadata": {
        "id": "view-in-github",
        "colab_type": "text"
      },
      "source": [
        "<a href=\"https://colab.research.google.com/github/yukimiyazaki/AtCoder/blob/master/AtcoderABC106.ipynb\" target=\"_parent\"><img src=\"https://colab.research.google.com/assets/colab-badge.svg\" alt=\"Open In Colab\"/></a>"
      ]
    },
    {
      "metadata": {
        "id": "5qq3igqXUf2q",
        "colab_type": "text"
      },
      "cell_type": "markdown",
      "source": [
        "https://beta.atcoder.jp/contests/abc106/tasks"
      ]
    },
    {
      "metadata": {
        "id": "-44KCsWaUCaD",
        "colab_type": "text"
      },
      "cell_type": "markdown",
      "source": [
        "# A\n",
        "\n",
        "---\n",
        "\n",
        "\n",
        "入力 A B\n",
        "出力 (A-1)*(B-1)"
      ]
    },
    {
      "metadata": {
        "id": "dCx8Pa3oTxO6",
        "colab_type": "code",
        "colab": {}
      },
      "cell_type": "code",
      "source": [
        "a, b = map(int, input().split())\n",
        "print ((a-1)*(b-1))"
      ],
      "execution_count": 0,
      "outputs": []
    },
    {
      "metadata": {
        "id": "9nuKcRyYUKQu",
        "colab_type": "text"
      },
      "cell_type": "markdown",
      "source": [
        "# B\n",
        "1 以上 N 以下の奇数のうち, 正の約数を ちょうど 8 個持つようなものの個数を求めよ.\n",
        "\n",
        "---\n",
        "\n",
        "入力\n",
        ">105"
      ]
    },
    {
      "metadata": {
        "id": "Ll1HCwrKUDab",
        "colab_type": "code",
        "colab": {}
      },
      "cell_type": "code",
      "source": [
        "a = int(input())\n",
        " \n",
        "b=0#約数の個数\n",
        " \n",
        "for num in range(1,a+1):#i:1~inputまで,奇数だけ\n",
        "  if num % 2 == 1:\n",
        "  #ある数Niについて約数を数える\n",
        "    yakusuu = 0\n",
        "    for i in range(1,num):\n",
        "      if num % i == 0:\n",
        "        yakusuu += 1\n",
        "    if yakusuu == 7:\n",
        "      b += 1\n",
        "print(b)"
      ],
      "execution_count": 0,
      "outputs": []
    },
    {
      "metadata": {
        "id": "K-hTgD0PUQcY",
        "colab_type": "text"
      },
      "cell_type": "markdown",
      "source": [
        "# C\n",
        "\n",
        "---\n",
        "\n",
        "\n",
        "入力\n",
        ">S\n",
        ">K\n",
        "出力\n",
        "無限のやつを無視して考えればよかった。。。"
      ]
    },
    {
      "metadata": {
        "id": "pQICPu4mUNbZ",
        "colab_type": "code",
        "colab": {}
      },
      "cell_type": "code",
      "source": [
        "s = list(map(int, list(input())))\n",
        "k = int(input())\n",
        "nums = 0\n",
        "for i in s:\n",
        "    if i > 1:\n",
        "        print(i)\n",
        "        break\n",
        "    else:\n",
        "        nums += 1\n",
        "        if nums >= k:\n",
        "            print(i)\n",
        "            break"
      ],
      "execution_count": 0,
      "outputs": []
    }
  ]
}