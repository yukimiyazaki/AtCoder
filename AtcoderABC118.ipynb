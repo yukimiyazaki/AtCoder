{
  "nbformat": 4,
  "nbformat_minor": 0,
  "metadata": {
    "colab": {
      "name": "AtcoderABC118.ipynb",
      "version": "0.3.2",
      "provenance": [],
      "collapsed_sections": [],
      "include_colab_link": true
    },
    "kernelspec": {
      "name": "python3",
      "display_name": "Python 3"
    }
  },
  "cells": [
    {
      "cell_type": "markdown",
      "metadata": {
        "id": "view-in-github",
        "colab_type": "text"
      },
      "source": [
        "<a href=\"https://colab.research.google.com/github/yukimiyazaki/AtCoder/blob/master/AtcoderABC118.ipynb\" target=\"_parent\"><img src=\"https://colab.research.google.com/assets/colab-badge.svg\" alt=\"Open In Colab\"/></a>"
      ]
    },
    {
      "metadata": {
        "id": "VenYmUIVubWg",
        "colab_type": "text"
      },
      "cell_type": "markdown",
      "source": [
        "# [A - B +/- A](https://atcoder.jp/contests/abc118/tasks/abc118_a)\n",
        "\n",
        "---\n",
        "\n",
        "\n",
        "A\n",
        "  が \n",
        "B\n",
        " の約数なら \n",
        "A\n",
        "+\n",
        "B\n",
        " を、そうでなければ \n",
        "B\n",
        "−\n",
        "A\n",
        " を出力してください。"
      ]
    },
    {
      "metadata": {
        "id": "Bg8_QuF6otT2",
        "colab_type": "code",
        "outputId": "dfbafc34-0f87-4a33-8cf6-48ae15ca8f1e",
        "colab": {
          "base_uri": "https://localhost:8080/",
          "height": 51
        }
      },
      "cell_type": "code",
      "source": [
        "# 整数の入力\n",
        "A,B = map(int,input().split())\n",
        "if B % A == 0:\n",
        "  print(int(A+B))\n",
        "else:\n",
        "  print(int(B-A))"
      ],
      "execution_count": 4,
      "outputs": [
        {
          "output_type": "stream",
          "text": [
            "1 1\n",
            "2\n"
          ],
          "name": "stdout"
        }
      ]
    },
    {
      "metadata": {
        "id": "uFHitxY6vN3n",
        "colab_type": "text"
      },
      "cell_type": "markdown",
      "source": [
        "# [B - Foods Loved by Everyone](https://atcoder.jp/contests/abc118/tasks/abc118_b)\n",
        "\n",
        "---\n",
        "\n",
        "\n",
        "調査の結果、\n",
        "i\n",
        " 番目の人は \n",
        "A\n",
        "i\n",
        "1\n",
        " 番目, \n",
        "A\n",
        "i\n",
        "2\n",
        " 番目, \n",
        ".\n",
        ".\n",
        ".\n",
        ", \n",
        "A\n",
        "i\n",
        "K\n",
        "i\n",
        " 番目の食べ物だけ好きだと答えました。\n",
        "\n",
        "N\n",
        " 人全ての人が好きだと答えた食べ物の種類数を求めてください。"
      ]
    },
    {
      "metadata": {
        "id": "aq5v5n3Au9pF",
        "colab_type": "code",
        "outputId": "89c51a32-0cab-4edf-c35b-c30c82348b06",
        "colab": {
          "base_uri": "https://localhost:8080/",
          "height": 85
        }
      },
      "cell_type": "code",
      "source": [
        "N,M = map(int,input().split())\n",
        "K = [0] * N\n",
        "A = [0] * N\n",
        "for i in range(N):\n",
        "    K[i], *A[i] = map(int, input().split())"
      ],
      "execution_count": 6,
      "outputs": [
        {
          "output_type": "stream",
          "text": [
            "3 4\n",
            "2 1 3\n",
            "3 1 2 3\n",
            "2 3 2\n"
          ],
          "name": "stdout"
        }
      ]
    },
    {
      "metadata": {
        "id": "FIYObVT0PNhm",
        "colab_type": "code",
        "colab": {
          "base_uri": "https://localhost:8080/",
          "height": 34
        },
        "outputId": "f44a674f-bbae-4bd1-dc54-20131b4343d1"
      },
      "cell_type": "code",
      "source": [
        "A"
      ],
      "execution_count": 7,
      "outputs": [
        {
          "output_type": "execute_result",
          "data": {
            "text/plain": [
              "[[1, 3], [1, 2, 3], [3, 2]]"
            ]
          },
          "metadata": {
            "tags": []
          },
          "execution_count": 7
        }
      ]
    },
    {
      "metadata": {
        "id": "i043UxbwPYqS",
        "colab_type": "code",
        "colab": {
          "base_uri": "https://localhost:8080/",
          "height": 34
        },
        "outputId": "d7653f9e-9f13-4a31-fdb0-881381ffc2ac"
      },
      "cell_type": "code",
      "source": [
        "A[0]"
      ],
      "execution_count": 8,
      "outputs": [
        {
          "output_type": "execute_result",
          "data": {
            "text/plain": [
              "[1, 3]"
            ]
          },
          "metadata": {
            "tags": []
          },
          "execution_count": 8
        }
      ]
    },
    {
      "metadata": {
        "id": "AcADtiuTPRUE",
        "colab_type": "code",
        "colab": {}
      },
      "cell_type": "code",
      "source": [
        "Ans_i = set(A[0])\n",
        "for i in range(N):\n",
        "  Ans_i = Ans_i & set(A[i])"
      ],
      "execution_count": 0,
      "outputs": []
    },
    {
      "metadata": {
        "id": "nXPjVsE0Pqsc",
        "colab_type": "code",
        "colab": {
          "base_uri": "https://localhost:8080/",
          "height": 34
        },
        "outputId": "849cc783-1bd6-48b9-dba5-0f0d47973010"
      },
      "cell_type": "code",
      "source": [
        "list(Ans_i)"
      ],
      "execution_count": 11,
      "outputs": [
        {
          "output_type": "execute_result",
          "data": {
            "text/plain": [
              "[3]"
            ]
          },
          "metadata": {
            "tags": []
          },
          "execution_count": 11
        }
      ]
    },
    {
      "metadata": {
        "id": "5PuvyIuLP-Hv",
        "colab_type": "code",
        "colab": {
          "base_uri": "https://localhost:8080/",
          "height": 68
        },
        "outputId": "2b213f05-196a-4e94-87ff-bda6041db3ab"
      },
      "cell_type": "code",
      "source": [
        "#入力\n",
        "N,M = map(int,input().split())\n",
        "K = [0] * N\n",
        "A = [0] * N\n",
        "for i in range(N):\n",
        "    K[i], *A[i] = map(int, input().split())\n",
        "#共通部分    \n",
        "Ans_i = set(A[0])\n",
        "for i in range(N):\n",
        "  Ans_i = Ans_i & set(A[i])\n",
        "print(len(list(Ans_i)))"
      ],
      "execution_count": 14,
      "outputs": [
        {
          "output_type": "stream",
          "text": [
            "1 30\n",
            "3 5 10 30\n",
            "3\n"
          ],
          "name": "stdout"
        }
      ]
    },
    {
      "metadata": {
        "id": "EVpSZhPHxDry",
        "colab_type": "text"
      },
      "cell_type": "markdown",
      "source": [
        "# [C - Monsters Battle Royale](https://atcoder.jp/contests/abc118/tasks/abc118_c)\n",
        "\n",
        "---\n",
        "\n",
        "\n",
        "N\n",
        "  体のモンスターが居て、それぞれ \n",
        "1\n",
        ",\n",
        "2\n",
        ",\n",
        ".\n",
        ".\n",
        ".\n",
        ",\n",
        "N\n",
        " と番号付けられています。\n",
        "\n",
        "はじめ、モンスター \n",
        "i\n",
        " の体力は \n",
        "A\n",
        "i\n",
        " です。\n",
        "\n",
        "以降、体力が \n",
        "1\n",
        " 以上のモンスターを生きているモンスターと呼びます。\n",
        "\n",
        "生きているモンスターが \n",
        "1\n",
        " 体になるまで以下を繰り返します。\n",
        "\n",
        "ランダムに \n",
        "1\n",
        " 体の生きているモンスターがランダムに別の生きているモンスターに攻撃します。\n",
        "その結果、攻撃されたモンスターの体力を攻撃したモンスターの体力と同じ値だけ減らします。\n",
        "最後に生き残ったモンスターの最終的な体力の最小値を求めてください。\n",
        "\n",
        "---\n",
        "計算量の見積が大事\n"
      ]
    },
    {
      "metadata": {
        "id": "YYaKV2izR5ld",
        "colab_type": "code",
        "colab": {
          "base_uri": "https://localhost:8080/",
          "height": 51
        },
        "outputId": "73e62dea-8dee-4cfe-e443-36eb95548e7e"
      },
      "cell_type": "code",
      "source": [
        "N = int(input())\n",
        "A = list(map(int, input().split()))"
      ],
      "execution_count": 23,
      "outputs": [
        {
          "output_type": "stream",
          "text": [
            "4\n",
            "2 10 8 40\n"
          ],
          "name": "stdout"
        }
      ]
    },
    {
      "metadata": {
        "id": "hQCeya7ERz8Q",
        "colab_type": "code",
        "colab": {
          "base_uri": "https://localhost:8080/",
          "height": 34
        },
        "outputId": "c447e718-6929-4e15-ce94-f125ea7460d2"
      },
      "cell_type": "code",
      "source": [
        "import math\n",
        "GCD_i=A[0]\n",
        "for i in range(len(A)):\n",
        "  GCD_i = math.gcd(GCD_i,A[i])\n",
        "print(GCD_i)"
      ],
      "execution_count": 24,
      "outputs": [
        {
          "output_type": "stream",
          "text": [
            "2\n"
          ],
          "name": "stdout"
        }
      ]
    },
    {
      "metadata": {
        "id": "hR6ecwdMURWy",
        "colab_type": "code",
        "colab": {
          "base_uri": "https://localhost:8080/",
          "height": 68
        },
        "outputId": "a7a01d13-a0c0-43cb-df9b-0d9337b6a992"
      },
      "cell_type": "code",
      "source": [
        "import math\n",
        "N = int(input())\n",
        "A = list(map(int, input().split()))\n",
        "GCD_i=A[0]\n",
        "for i in range(len(A)):\n",
        "  GCD_i = math.gcd(GCD_i,A[i])\n",
        "print(GCD_i)"
      ],
      "execution_count": 25,
      "outputs": [
        {
          "output_type": "stream",
          "text": [
            "4\n",
            "2 10 8 40\n",
            "2\n"
          ],
          "name": "stdout"
        }
      ]
    },
    {
      "metadata": {
        "id": "ZbjMSku3VGOc",
        "colab_type": "code",
        "colab": {}
      },
      "cell_type": "code",
      "source": [
        "import fractions\n",
        "N = int(input())\n",
        "A = list(map(int, input().split()))\n",
        "GCD_i=A[0]\n",
        "for i in range(len(A)):\n",
        "  GCD_i = fractions.gcd(GCD_i,A[i])\n",
        "print(GCD_i)"
      ],
      "execution_count": 0,
      "outputs": []
    },
    {
      "metadata": {
        "id": "2BztL7uIyLtU",
        "colab_type": "text"
      },
      "cell_type": "markdown",
      "source": [
        "# [D - Match Matching](https://atcoder.jp/contests/abc118/tasks/abc118_d)\n",
        "作る整数の各桁は、\n",
        "1\n",
        " から \n",
        "9\n",
        " までの数字のうち \n",
        "A\n",
        "1\n",
        ",\n",
        "A\n",
        "2\n",
        ",\n",
        ".\n",
        ".\n",
        ".\n",
        ",\n",
        "A\n",
        "M\n",
        "(\n",
        "1\n",
        "≤\n",
        "A\n",
        "i\n",
        "≤\n",
        "9\n",
        ")\n",
        " のいずれかでなければならない。\n",
        "数字 \n",
        "1\n",
        ",\n",
        "2\n",
        ",\n",
        "3\n",
        ",\n",
        "4\n",
        ",\n",
        "5\n",
        ",\n",
        "6\n",
        ",\n",
        "7\n",
        ",\n",
        "8\n",
        ",\n",
        "9\n",
        " を \n",
        "1\n",
        " つ作るには、それぞれちょうど \n",
        "2\n",
        ",\n",
        "5\n",
        ",\n",
        "5\n",
        ",\n",
        "4\n",
        ",\n",
        "5\n",
        ",\n",
        "6\n",
        ",\n",
        "3\n",
        ",\n",
        "7\n",
        ",\n",
        "6\n",
        " 本のマッチ棒を使う。"
      ]
    },
    {
      "metadata": {
        "id": "_99IJCdiZGA5",
        "colab_type": "code",
        "colab": {}
      },
      "cell_type": "code",
      "source": [
        "#使うマッチ本数(全体)\n",
        "H_init = [2 , 5 , 5 , 4 , 5 , 6 , 3 , 7 , 6]"
      ],
      "execution_count": 0,
      "outputs": []
    },
    {
      "metadata": {
        "id": "AphsAzzqyNdk",
        "colab_type": "code",
        "outputId": "48d9cc44-2ba9-4a05-949e-4f2e6ca86820",
        "colab": {
          "base_uri": "https://localhost:8080/",
          "height": 34
        }
      },
      "cell_type": "code",
      "source": [
        "N,M = map(int,input().split())"
      ],
      "execution_count": 26,
      "outputs": [
        {
          "output_type": "stream",
          "text": [
            "20 4\n"
          ],
          "name": "stdout"
        }
      ]
    },
    {
      "metadata": {
        "id": "D1qJ57giY7gC",
        "colab_type": "code",
        "colab": {
          "base_uri": "https://localhost:8080/",
          "height": 34
        },
        "outputId": "f381c43f-199a-49af-a2d0-5f09a0a2aa2b"
      },
      "cell_type": "code",
      "source": [
        "#使う数字\n",
        "A = list(map(int, input().split()))"
      ],
      "execution_count": 27,
      "outputs": [
        {
          "output_type": "stream",
          "text": [
            "3 7 8 4\n"
          ],
          "name": "stdout"
        }
      ]
    },
    {
      "metadata": {
        "id": "KijvarX0a31V",
        "colab_type": "code",
        "colab": {
          "base_uri": "https://localhost:8080/",
          "height": 34
        },
        "outputId": "9ce96d99-7646-4737-f1c1-1ec58022f90c"
      },
      "cell_type": "code",
      "source": [
        ""
      ],
      "execution_count": 35,
      "outputs": [
        {
          "output_type": "execute_result",
          "data": {
            "text/plain": [
              "4"
            ]
          },
          "metadata": {
            "tags": []
          },
          "execution_count": 35
        }
      ]
    },
    {
      "metadata": {
        "id": "_ACQPlOMZzQU",
        "colab_type": "code",
        "colab": {}
      },
      "cell_type": "code",
      "source": [
        "H = A\n",
        "for i in range(len(A)):\n",
        "  H[i] = H_init[A[i]+1]"
      ],
      "execution_count": 0,
      "outputs": []
    },
    {
      "metadata": {
        "id": "0ggBt1GXbHcL",
        "colab_type": "code",
        "colab": {
          "base_uri": "https://localhost:8080/",
          "height": 34
        },
        "outputId": "4a8c9691-e9c4-403a-84ad-4b940a263dbb"
      },
      "cell_type": "code",
      "source": [
        "#使うマッチ本数\n",
        "H"
      ],
      "execution_count": 92,
      "outputs": [
        {
          "output_type": "execute_result",
          "data": {
            "text/plain": [
              "[7, 3, 6, 5]"
            ]
          },
          "metadata": {
            "tags": []
          },
          "execution_count": 92
        }
      ]
    },
    {
      "metadata": {
        "id": "3H5B3FhwbTOf",
        "colab_type": "code",
        "colab": {
          "base_uri": "https://localhost:8080/",
          "height": 34
        },
        "outputId": "5f36233e-5605-4700-cf0f-dd49d1708411"
      },
      "cell_type": "code",
      "source": [
        "#最小のHをたくさん使うようにする\n",
        "H_sorted = sorted(H)\n",
        "sorted(H)"
      ],
      "execution_count": 93,
      "outputs": [
        {
          "output_type": "execute_result",
          "data": {
            "text/plain": [
              "[3, 5, 6, 7]"
            ]
          },
          "metadata": {
            "tags": []
          },
          "execution_count": 93
        }
      ]
    },
    {
      "metadata": {
        "id": "ASyLuZkQckGe",
        "colab_type": "code",
        "colab": {
          "base_uri": "https://localhost:8080/",
          "height": 34
        },
        "outputId": "25871a84-efb0-4fdd-c35d-153ff3c96f30"
      },
      "cell_type": "code",
      "source": [
        "import numpy as np\n",
        "np.argsort(np.array(H))"
      ],
      "execution_count": 79,
      "outputs": [
        {
          "output_type": "execute_result",
          "data": {
            "text/plain": [
              "array([3, 1, 0, 2])"
            ]
          },
          "metadata": {
            "tags": []
          },
          "execution_count": 79
        }
      ]
    },
    {
      "metadata": {
        "id": "v9TZImVxcwqy",
        "colab_type": "code",
        "colab": {}
      },
      "cell_type": "code",
      "source": [
        "H_list = list(np.argsort(np.array(H)))"
      ],
      "execution_count": 0,
      "outputs": []
    },
    {
      "metadata": {
        "id": "UpI0qmYBfnjH",
        "colab_type": "code",
        "colab": {
          "base_uri": "https://localhost:8080/",
          "height": 34
        },
        "outputId": "7965bb29-eecc-48a6-df1b-a46f762c4d12"
      },
      "cell_type": "code",
      "source": [
        "H_list"
      ],
      "execution_count": 81,
      "outputs": [
        {
          "output_type": "execute_result",
          "data": {
            "text/plain": [
              "[3, 1, 0, 2]"
            ]
          },
          "metadata": {
            "tags": []
          },
          "execution_count": 81
        }
      ]
    },
    {
      "metadata": {
        "id": "VmkTXpfYeSGY",
        "colab_type": "code",
        "colab": {
          "base_uri": "https://localhost:8080/",
          "height": 34
        },
        "outputId": "47158edb-2547-40d8-dd23-af0f6e1c8e4b"
      },
      "cell_type": "code",
      "source": [
        "'11'*2"
      ],
      "execution_count": 82,
      "outputs": [
        {
          "output_type": "execute_result",
          "data": {
            "text/plain": [
              "'1111'"
            ]
          },
          "metadata": {
            "tags": []
          },
          "execution_count": 82
        }
      ]
    },
    {
      "metadata": {
        "id": "IE8_4Kn0c4Wa",
        "colab_type": "code",
        "colab": {}
      },
      "cell_type": "code",
      "source": [
        "#再帰\n",
        "#残りn本, x番目に小さい数, ans\n",
        "def f(n,x, ans):\n",
        "#マッチが割り切れるか\n",
        "    if n%H_sorted[x]==0:\n",
        "        return str(A[H_list[x]])* (n//H_sorted[x])+ ans\n",
        "    else:\n",
        "        return f(n%H_sorted[x],x+1, ans)"
      ],
      "execution_count": 0,
      "outputs": []
    },
    {
      "metadata": {
        "id": "sgirYt7BZCAk",
        "colab_type": "code",
        "colab": {}
      },
      "cell_type": "code",
      "source": [
        "#再帰\n",
        "def f(n,x):\n",
        "#マッチが割り切れるか\n",
        "    if n==0:\n",
        "        return 0 if x<=0 else 1\n",
        "    elif x<=1+a[n-1]:\n",
        "        return f(n-1,x-1)"
      ],
      "execution_count": 0,
      "outputs": []
    },
    {
      "metadata": {
        "id": "3gNfgmoc0LLR",
        "colab_type": "code",
        "colab": {}
      },
      "cell_type": "code",
      "source": [
        "b = 1 #b(0) レベル0\n",
        "l = 1 #長さ\n",
        "for i in range(N):\n",
        "  b = b*2 + 2*2**l + b * 2*2*2**l\n",
        "  l = 3 + 2*l"
      ],
      "execution_count": 0,
      "outputs": []
    },
    {
      "metadata": {
        "id": "OwQThwfqro78",
        "colab_type": "code",
        "colab": {
          "base_uri": "https://localhost:8080/",
          "height": 51
        },
        "outputId": "3c2a4a71-e118-4f8c-955a-939ef91e6d17"
      },
      "cell_type": "code",
      "source": [
        "N, M = (int(i) for i in input().split())\n",
        "A = [int(i) for i in input().split()]\n",
        "num = [0,2,5,5,4,5,6,3,7,6]"
      ],
      "execution_count": 96,
      "outputs": [
        {
          "output_type": "stream",
          "text": [
            "101 9\n",
            "9 8 7 6 5 4 3 2 1\n"
          ],
          "name": "stdout"
        }
      ]
    },
    {
      "metadata": {
        "id": "nhjt7dc9sUei",
        "colab_type": "code",
        "colab": {}
      },
      "cell_type": "code",
      "source": [
        "DP = [-1] * (N+1)\n",
        "DP[0] = 0"
      ],
      "execution_count": 0,
      "outputs": []
    },
    {
      "metadata": {
        "id": "Cf5kUlb3sc-n",
        "colab_type": "code",
        "colab": {
          "base_uri": "https://localhost:8080/",
          "height": 1751
        },
        "outputId": "2f3dbef8-58a1-48af-81cc-a1b689478dad"
      },
      "cell_type": "code",
      "source": [
        "DP"
      ],
      "execution_count": 98,
      "outputs": [
        {
          "output_type": "execute_result",
          "data": {
            "text/plain": [
              "[0,\n",
              " -1,\n",
              " -1,\n",
              " -1,\n",
              " -1,\n",
              " -1,\n",
              " -1,\n",
              " -1,\n",
              " -1,\n",
              " -1,\n",
              " -1,\n",
              " -1,\n",
              " -1,\n",
              " -1,\n",
              " -1,\n",
              " -1,\n",
              " -1,\n",
              " -1,\n",
              " -1,\n",
              " -1,\n",
              " -1,\n",
              " -1,\n",
              " -1,\n",
              " -1,\n",
              " -1,\n",
              " -1,\n",
              " -1,\n",
              " -1,\n",
              " -1,\n",
              " -1,\n",
              " -1,\n",
              " -1,\n",
              " -1,\n",
              " -1,\n",
              " -1,\n",
              " -1,\n",
              " -1,\n",
              " -1,\n",
              " -1,\n",
              " -1,\n",
              " -1,\n",
              " -1,\n",
              " -1,\n",
              " -1,\n",
              " -1,\n",
              " -1,\n",
              " -1,\n",
              " -1,\n",
              " -1,\n",
              " -1,\n",
              " -1,\n",
              " -1,\n",
              " -1,\n",
              " -1,\n",
              " -1,\n",
              " -1,\n",
              " -1,\n",
              " -1,\n",
              " -1,\n",
              " -1,\n",
              " -1,\n",
              " -1,\n",
              " -1,\n",
              " -1,\n",
              " -1,\n",
              " -1,\n",
              " -1,\n",
              " -1,\n",
              " -1,\n",
              " -1,\n",
              " -1,\n",
              " -1,\n",
              " -1,\n",
              " -1,\n",
              " -1,\n",
              " -1,\n",
              " -1,\n",
              " -1,\n",
              " -1,\n",
              " -1,\n",
              " -1,\n",
              " -1,\n",
              " -1,\n",
              " -1,\n",
              " -1,\n",
              " -1,\n",
              " -1,\n",
              " -1,\n",
              " -1,\n",
              " -1,\n",
              " -1,\n",
              " -1,\n",
              " -1,\n",
              " -1,\n",
              " -1,\n",
              " -1,\n",
              " -1,\n",
              " -1,\n",
              " -1,\n",
              " -1,\n",
              " -1,\n",
              " -1]"
            ]
          },
          "metadata": {
            "tags": []
          },
          "execution_count": 98
        }
      ]
    },
    {
      "metadata": {
        "id": "yHh7Mj87sbQL",
        "colab_type": "code",
        "colab": {}
      },
      "cell_type": "code",
      "source": [
        "DP = [-1] * (N+1)\n",
        "DP[0] = 0\n",
        " \n",
        "for i in range(N+1):\n",
        "    for j in range(M):\n",
        "        n = num[A[j]]\n",
        "        if i - n >= 0 and DP[i-n] != -1:\n",
        "            DP[i] = max(DP[i], DP[i-n] * 10 + A[j])\n",
        " \n",
        "print(DP[N])"
      ],
      "execution_count": 0,
      "outputs": []
    }
  ]
}