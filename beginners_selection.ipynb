{
  "nbformat": 4,
  "nbformat_minor": 0,
  "metadata": {
    "colab": {
      "name": "beginners_selection.ipynb",
      "version": "0.3.2",
      "provenance": [],
      "collapsed_sections": [],
      "include_colab_link": true
    },
    "kernelspec": {
      "name": "python3",
      "display_name": "Python 3"
    }
  },
  "cells": [
    {
      "cell_type": "markdown",
      "metadata": {
        "id": "view-in-github",
        "colab_type": "text"
      },
      "source": [
        "<a href=\"https://colab.research.google.com/github/yukimiyazaki/AtCoder/blob/master/beginners_selection.ipynb\" target=\"_parent\"><img src=\"https://colab.research.google.com/assets/colab-badge.svg\" alt=\"Open In Colab\"/></a>"
      ]
    },
    {
      "metadata": {
        "id": "22DJ1tVbrG2O",
        "colab_type": "text"
      },
      "cell_type": "markdown",
      "source": [
        "#[AtCoder Beginners Selection](https://beta.atcoder.jp/contests/abs) \n",
        "\n",
        "\n",
        "---\n",
        "\n",
        "参考\n",
        "http://delta114514.hatenablog.jp/entry/2018/03/15/014555\n",
        "\n",
        "---\n",
        "\n",
        "\n",
        "やった日：2018/10/07"
      ]
    },
    {
      "metadata": {
        "id": "nJ_yyuuapjnT",
        "colab_type": "text"
      },
      "cell_type": "markdown",
      "source": [
        "#[PracticeA - はじめてのあっとこーだー（Welcome to AtCoder）](https://beta.atcoder.jp/contests/abs/tasks/practice_1)"
      ]
    },
    {
      "metadata": {
        "id": "bLPkRjRBqSmF",
        "colab_type": "code",
        "colab": {}
      },
      "cell_type": "code",
      "source": [
        "# -*- coding: utf-8 -*-\n",
        "# 整数の入力\n",
        "a = int(input())\n",
        "# スペース区切りの整数の入力\n",
        "b, c = map(int, input().split())\n",
        "# 文字列の入力\n",
        "s = input()\n",
        "# 出力\n",
        "print(\"{} {}\".format(a+b+c, s))"
      ],
      "execution_count": 0,
      "outputs": []
    },
    {
      "metadata": {
        "id": "KOQ4kw8up3Eu",
        "colab_type": "text"
      },
      "cell_type": "markdown",
      "source": [
        "#[8問目 ABC085C - Otoshidama](https://abc085.contest.atcoder.jp/tasks/abc085_c)\n",
        "\n",
        "---\n",
        "\n",
        "\n",
        "入力例 1\n",
        "1\n",
        "2 3\n",
        "test\n",
        "出力例 1\n",
        "6 test"
      ]
    },
    {
      "metadata": {
        "id": "WAexICeRqjxz",
        "colab_type": "code",
        "colab": {}
      },
      "cell_type": "code",
      "source": [
        "n, y = map(int, input().split())\n",
        "for i in range(n + 1):\n",
        "    for j in range(n - i + 1):\n",
        "        if i * 10000 + j * 5000 + (n - i - j) * 1000 == y:\n",
        "            print(i, j, n - i - j)\n",
        "            exit()\n",
        "print(\"-1 -1 -1\")"
      ],
      "execution_count": 0,
      "outputs": []
    },
    {
      "metadata": {
        "id": "5b2nxLpUqnh7",
        "colab_type": "text"
      },
      "cell_type": "markdown",
      "source": [
        "# [9問目 ABC049C - 白昼夢 / Daydream](http://abc049.contest.atcoder.jp/tasks/arc065_a)\n",
        "\n",
        "---\n",
        "先にeraseとeraserを消しておいて、あとからdream, dreamerを消す\n",
        "\n",
        "---\n",
        "\n",
        "別解として、多かったのはmatchを使う方法"
      ]
    },
    {
      "metadata": {
        "id": "4wmv_q5uryYc",
        "colab_type": "code",
        "colab": {}
      },
      "cell_type": "code",
      "source": [
        "s=input().replace(\"eraser\",\"\").replace(\"erase\",\"\").replace(\"dreamer\",\"\").replace(\"dream\",\"\")\n",
        "if s:\n",
        "   print(\"NO\")\n",
        "else:\n",
        "   print(\"YES\")"
      ],
      "execution_count": 0,
      "outputs": []
    },
    {
      "metadata": {
        "id": "VlLLaOnjq_Ro",
        "colab_type": "code",
        "colab": {}
      },
      "cell_type": "code",
      "source": [
        "#別解\n",
        "import re\n",
        "s=input()\n",
        "pat=r\"^(dream|dreamer|erase|eraser)*$\"\n",
        "if re.match(pat,s):\n",
        "  print(\"YES\")\n",
        "else:\n",
        "\n",
        "  print(\"NO\")"
      ],
      "execution_count": 0,
      "outputs": []
    },
    {
      "metadata": {
        "id": "u1CYKaPvrNp7",
        "colab_type": "text"
      },
      "cell_type": "markdown",
      "source": [
        "# [10問目 ABC086C - Traveling](https://beta.atcoder.jp/contests/abs/tasks/arc089_a)\n",
        "\n",
        "---\n",
        "\n",
        "それぞれの t, x, y について\n",
        "x + y が t より大きければダメ。\n",
        "x + y と t の偶奇が違っていればダメ"
      ]
    },
    {
      "metadata": {
        "colab_type": "code",
        "id": "tqVt_SSyrtxP",
        "colab": {}
      },
      "cell_type": "code",
      "source": [
        "n = int(input())\n",
        "for i in range(n):\n",
        "    t, x, y = map(int, input().split())\n",
        "    if x + y > t or (x + y + t) % 2 == 1:\n",
        "        print(\"No\")\n",
        "        exit()\n",
        "print(\"Yes\")"
      ],
      "execution_count": 0,
      "outputs": []
    }
  ]
}