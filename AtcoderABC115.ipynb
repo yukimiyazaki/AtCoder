{
  "nbformat": 4,
  "nbformat_minor": 0,
  "metadata": {
    "colab": {
      "name": "AtcoderABC115.ipynb",
      "version": "0.3.2",
      "provenance": [],
      "collapsed_sections": [],
      "include_colab_link": true
    },
    "kernelspec": {
      "name": "python3",
      "display_name": "Python 3"
    }
  },
  "cells": [
    {
      "cell_type": "markdown",
      "metadata": {
        "id": "view-in-github",
        "colab_type": "text"
      },
      "source": [
        "<a href=\"https://colab.research.google.com/github/yukimiyazaki/AtCoder/blob/master/AtcoderABC115.ipynb\" target=\"_parent\"><img src=\"https://colab.research.google.com/assets/colab-badge.svg\" alt=\"Open In Colab\"/></a>"
      ]
    },
    {
      "metadata": {
        "id": "VenYmUIVubWg",
        "colab_type": "text"
      },
      "cell_type": "markdown",
      "source": [
        "# [A - Christmas Eve Eve Eve](https://abc115.contest.atcoder.jp/tasks/abc115_a)\n",
        "\n",
        "---\n",
        "\n",
        "\n",
        "D=25 なら Christmas, D=24 なら Christmas Eve, D=23 なら Christmas Eve Eve, D=22 なら Christmas Eve Eve Eve と出力するプログラムを作ってください。"
      ]
    },
    {
      "metadata": {
        "id": "Bg8_QuF6otT2",
        "colab_type": "code",
        "colab": {
          "base_uri": "https://localhost:8080/",
          "height": 51
        },
        "outputId": "9c9e7ff7-1179-4f91-c9a2-f10c7948dcda"
      },
      "cell_type": "code",
      "source": [
        "# 整数の入力\n",
        "a = int(input())\n",
        "if a == 25:\n",
        "  print('Christmas')\n",
        "elif a == 24:\n",
        "  print('Christmas Eve')\n",
        "elif a == 23:\n",
        "  print('Christmas Eve Eve')\n",
        "elif a == 22:\n",
        "  print('Christmas Eve Eve Eve')"
      ],
      "execution_count": 5,
      "outputs": [
        {
          "output_type": "stream",
          "text": [
            "22\n",
            "Christmas Eve Eve Eve\n"
          ],
          "name": "stdout"
        }
      ]
    },
    {
      "metadata": {
        "id": "uFHitxY6vN3n",
        "colab_type": "text"
      },
      "cell_type": "markdown",
      "source": [
        "# [B - Christmas Eve Eve](https://abc115.contest.atcoder.jp/tasks/abc115_b)\n",
        "\n",
        "---\n",
        "\n",
        "\n",
        "高羽氏は、デパートで N 個の品物を買おうとしています。i 個目の品物 (1≤i≤N) の定価は pi 円です。\n",
        "\n",
        "彼は割引券を持っており、N 個のうち最も定価が高い品物 1 個を定価の半額で買うことができます。残りの N−1 個の品物に対しては定価を支払います。支払金額は合計でいくらになるでしょうか？"
      ]
    },
    {
      "metadata": {
        "id": "aq5v5n3Au9pF",
        "colab_type": "code",
        "colab": {
          "base_uri": "https://localhost:8080/",
          "height": 85
        },
        "outputId": "e9342606-c156-42c9-ed5b-4ded59e2ab72"
      },
      "cell_type": "code",
      "source": [
        "N = int(input())\n",
        "p = [int(input()) for _ in range(N)]"
      ],
      "execution_count": 6,
      "outputs": [
        {
          "output_type": "stream",
          "text": [
            "3\n",
            "4980\n",
            "7980\n",
            "6980\n"
          ],
          "name": "stdout"
        }
      ]
    },
    {
      "metadata": {
        "id": "udI0SxxRv6CD",
        "colab_type": "code",
        "colab": {}
      },
      "cell_type": "code",
      "source": [
        "P = sorted(p, reverse=True)"
      ],
      "execution_count": 0,
      "outputs": []
    },
    {
      "metadata": {
        "id": "pJmy40xowFhY",
        "colab_type": "code",
        "colab": {
          "base_uri": "https://localhost:8080/",
          "height": 34
        },
        "outputId": "c50684be-65de-4731-ad92-89ed6303b49e"
      },
      "cell_type": "code",
      "source": [
        "sum = 0\n",
        "for i in range(N):\n",
        "  sum += P[i]\n",
        "print(sum)"
      ],
      "execution_count": 10,
      "outputs": [
        {
          "output_type": "stream",
          "text": [
            "19940\n"
          ],
          "name": "stdout"
        }
      ]
    },
    {
      "metadata": {
        "id": "ap0ufjAUwm4K",
        "colab_type": "code",
        "colab": {
          "base_uri": "https://localhost:8080/",
          "height": 34
        },
        "outputId": "9c46ada1-6b1f-4552-aba6-213fe1bd668f"
      },
      "cell_type": "code",
      "source": [
        "int(P[0]/2)"
      ],
      "execution_count": 11,
      "outputs": [
        {
          "output_type": "execute_result",
          "data": {
            "text/plain": [
              "3990"
            ]
          },
          "metadata": {
            "tags": []
          },
          "execution_count": 11
        }
      ]
    },
    {
      "metadata": {
        "id": "ZBOz9sltwfpD",
        "colab_type": "code",
        "colab": {
          "base_uri": "https://localhost:8080/",
          "height": 34
        },
        "outputId": "3f481a96-32d5-4d6d-97fe-785215688c8c"
      },
      "cell_type": "code",
      "source": [
        "print(sum-int(P[0]/2))"
      ],
      "execution_count": 12,
      "outputs": [
        {
          "output_type": "stream",
          "text": [
            "15950\n"
          ],
          "name": "stdout"
        }
      ]
    },
    {
      "metadata": {
        "id": "RqMCwveGwpK0",
        "colab_type": "code",
        "colab": {}
      },
      "cell_type": "code",
      "source": [
        "N = int(input())\n",
        "p = [int(input()) for _ in range(N)]\n",
        "P = sorted(p, reverse=True)\n",
        "sum = 0\n",
        "for i in range(N):\n",
        "  sum += P[i]\n",
        "print(sum-int(P[0]/2))"
      ],
      "execution_count": 0,
      "outputs": []
    },
    {
      "metadata": {
        "id": "EVpSZhPHxDry",
        "colab_type": "text"
      },
      "cell_type": "markdown",
      "source": [
        "# [C - Christmas Eve](https://abc115.contest.atcoder.jp/tasks/abc115_c)\n",
        "\n",
        "---\n",
        "\n",
        "\n",
        "高羽氏の庭には N 本の木が植えられています。i 本目の木 (1≤i≤N) の高さは hi メートルです。\n",
        "\n",
        "彼は、これらの木のうち K 本を選んで電飾を施すことにしました。より美しい光景をつくるために、できるだけ近い高さの木を飾り付けたいです。\n",
        "\n",
        "より具体的には、飾り付ける木のうち最も高いものの高さを hmax メートル、最も低いものの高さを hmin メートルとすると、hmax−hmin が小さいほど好ましいです。hmax−hmin は最小でいくつにすることができるでしょうか？"
      ]
    },
    {
      "metadata": {
        "id": "41MXRAmhxFt-",
        "colab_type": "code",
        "colab": {
          "base_uri": "https://localhost:8080/",
          "height": 119
        },
        "outputId": "b9d53413-c9b4-49d7-d7ea-63fed2de8319"
      },
      "cell_type": "code",
      "source": [
        "N,K = map(int,input().split())\n",
        "h = [int(input()) for _ in range(N)]\n",
        "H = sorted(h, reverse=True)"
      ],
      "execution_count": 26,
      "outputs": [
        {
          "output_type": "stream",
          "text": [
            "5 3\n",
            "10\n",
            "15\n",
            "11\n",
            "14\n",
            "12\n"
          ],
          "name": "stdout"
        }
      ]
    },
    {
      "metadata": {
        "id": "GbAbHhOr9Meo",
        "colab_type": "code",
        "colab": {
          "base_uri": "https://localhost:8080/",
          "height": 34
        },
        "outputId": "ccfdb4fb-b168-4196-9254-0fd309cf2071"
      },
      "cell_type": "code",
      "source": [
        "H"
      ],
      "execution_count": 28,
      "outputs": [
        {
          "output_type": "execute_result",
          "data": {
            "text/plain": [
              "[15, 14, 12, 11, 10]"
            ]
          },
          "metadata": {
            "tags": []
          },
          "execution_count": 28
        }
      ]
    },
    {
      "metadata": {
        "id": "4gjfn5rT9sai",
        "colab_type": "code",
        "colab": {
          "base_uri": "https://localhost:8080/",
          "height": 68
        },
        "outputId": "0605b750-76ea-41bc-85c0-adacb779312e"
      },
      "cell_type": "code",
      "source": [
        "delta_h = H[0]\n",
        "for i in range(N-K+1):\n",
        "  delta_hi = H[i]-H[i+K-1]\n",
        "  print(delta_hi)\n",
        "  if delta_h > delta_hi:\n",
        "    delta_h = delta_hi"
      ],
      "execution_count": 38,
      "outputs": [
        {
          "output_type": "stream",
          "text": [
            "3\n",
            "3\n",
            "2\n"
          ],
          "name": "stdout"
        }
      ]
    },
    {
      "metadata": {
        "id": "7ZHFlbvc-ZKL",
        "colab_type": "code",
        "colab": {
          "base_uri": "https://localhost:8080/",
          "height": 34
        },
        "outputId": "d7a2e5b2-cc8d-4499-fc0a-070f437eae9d"
      },
      "cell_type": "code",
      "source": [
        "delta_h"
      ],
      "execution_count": 39,
      "outputs": [
        {
          "output_type": "execute_result",
          "data": {
            "text/plain": [
              "2"
            ]
          },
          "metadata": {
            "tags": []
          },
          "execution_count": 39
        }
      ]
    },
    {
      "metadata": {
        "id": "2BztL7uIyLtU",
        "colab_type": "text"
      },
      "cell_type": "markdown",
      "source": [
        "# [D - Christmas](https://abc115.contest.atcoder.jp/tasks/abc115_d)\n",
        "とある世界では、今日はクリスマスです。\n",
        "\n",
        "高羽氏のパーティで、彼は多次元バーガーを作ることにしました。レベル L バーガー (L は 0 以上の整数) とは次のようなものです。\n",
        "\n",
        "レベル 0 バーガーとは、パティ 1 枚である。\n",
        "レベル L バーガー (L≥1) とは、バン 1 枚、レベル L−1 バーガー、パティ 1 枚、レベル L−1 バーガー、バン 1 枚、をこの順に下から積み重ねたものである。\n",
        "例えば、パティを P、バンを B で表すと、レベル 1 バーガーは BPPPB (を 90 度回転したもの)、レベル 2 バーガーは BBPPPBPBPPPBB といった見た目になります。\n",
        "\n",
        "高羽氏が作るのはレベル N バーガーです。ダックスフンドのルンルンは、このバーガーの下から X 層を食べます (パティまたはバン 1 枚を 1 層とします)。ルンルンはパティを何枚食べるでしょうか？\n",
        "\n"
      ]
    },
    {
      "metadata": {
        "id": "AphsAzzqyNdk",
        "colab_type": "code",
        "colab": {
          "base_uri": "https://localhost:8080/",
          "height": 34
        },
        "outputId": "97d9f65d-bc45-4edf-9be7-61941d09dbf5"
      },
      "cell_type": "code",
      "source": [
        "N,X = map(int,input().split())"
      ],
      "execution_count": 1,
      "outputs": [
        {
          "output_type": "stream",
          "text": [
            "2 7\n"
          ],
          "name": "stdout"
        }
      ]
    },
    {
      "metadata": {
        "id": "Gc2cFVrB2RGv",
        "colab_type": "text"
      },
      "cell_type": "markdown",
      "source": [
        "二進数にする"
      ]
    },
    {
      "metadata": {
        "id": "3gNfgmoc0LLR",
        "colab_type": "code",
        "colab": {}
      },
      "cell_type": "code",
      "source": [
        "b = 1 #b(0) レベル0\n",
        "l = 1 #長さ\n",
        "for i in range(N):\n",
        "  b = b*2 + 2*2**l + b * 2*2*2**l\n",
        "  l = 3 + 2*l"
      ],
      "execution_count": 0,
      "outputs": []
    },
    {
      "metadata": {
        "id": "pmVbebE-2hRu",
        "colab_type": "code",
        "colab": {
          "base_uri": "https://localhost:8080/",
          "height": 34
        },
        "outputId": "15bce900-1366-4f2a-a50a-a01e1126cb68"
      },
      "cell_type": "code",
      "source": [
        "b"
      ],
      "execution_count": 22,
      "outputs": [
        {
          "output_type": "execute_result",
          "data": {
            "text/plain": [
              "1884"
            ]
          },
          "metadata": {
            "tags": []
          },
          "execution_count": 22
        }
      ]
    },
    {
      "metadata": {
        "id": "sN4FjCpM2iD_",
        "colab_type": "code",
        "colab": {
          "base_uri": "https://localhost:8080/",
          "height": 34
        },
        "outputId": "dd2c4486-a994-4daf-9c90-110540e027f5"
      },
      "cell_type": "code",
      "source": [
        "l"
      ],
      "execution_count": 23,
      "outputs": [
        {
          "output_type": "execute_result",
          "data": {
            "text/plain": [
              "13"
            ]
          },
          "metadata": {
            "tags": []
          },
          "execution_count": 23
        }
      ]
    },
    {
      "metadata": {
        "id": "k4Eqj9cI21Rc",
        "colab_type": "code",
        "colab": {
          "base_uri": "https://localhost:8080/",
          "height": 207
        },
        "outputId": "13db7289-5925-4950-f9ce-71933075f5f9"
      },
      "cell_type": "code",
      "source": [
        "b = 1 #b(0) レベル0\n",
        "l = 1 #長さ\n",
        "for i in range(10):\n",
        "  b = b*2 + 2*2**l + b * 2*2*2**l\n",
        "  print(b)\n",
        "  l = 3 + 2*l"
      ],
      "execution_count": 43,
      "outputs": [
        {
          "output_type": "stream",
          "text": [
            "14\n",
            "1884\n",
            "61755064\n",
            "132617991318445424\n",
            "1223185072710398950275246437667781344\n",
            "208114155862127384498414082654771504327428406104883154836086718140559553984\n",
            "12048986453568092759082858652426584495174780595022362488093923954182142930965235949852152559666642143154841012044652043525166913992082868865746738670464\n",
            "80775248059960602060289320434528755945805957641027500633677947805241433056145654765363430082962128137299145938347340579134915035435169905712090787448536306765786533628462159774241694391277941752842394139344212557227723888104684868260382012270638213371909235653791509900593208514340391751857496352736532224\n",
            "7260455445209588799358654502298153099189073227179152624955873423756462110107188743031537943111234610830061639291637191152656266868202001310163010534793862647798676822992731719817852338329197248011873012459335148465080771983759900279619519049780092397015834118493104346638633759167255716073083938544268066731266794445099412252029093714115099535886624587413861990294740213717668886351780686945832983005425261298450944317381440385647958206431013700631343149953790870993219346432198534900611960459022373837581311844997827732780368444159009714099654825570126925098337406306789167850612364283483452212391237156619922944\n",
            "117318091351660671873131250475333413346467986389104567214646738772706939229852009639853955378881921335062072748932746581009172734277733882176223181984578421453059151055725925800448580291788215215512079210013910276484352075139384289658837781285213433802124268572163984642579272402232678938030711019034054365920834027202565389312112930493098504010930583534293879610616285014657864147849079929827614456976955433468596549302881185015925153072704003803745613317034997155131579652427138477429027714290258273280521106474892954782869157631844236383971263804625008077700766434434814191647456053963331149245340656659079557935320704350498276599491328301674389014185574615271947111094598753818667070272249477021097475248235702712193833698457128355959388311319943426225822972323863301590226774984917936252811328837724220751711749339167680668653562995014446339641483283334661957450012541630493667107290905691815935934045570836142953785144707189094245228973212030558334483257854784127893030345969998760104406959672001204236570232748938599160776807433502765301516992397748322332495804980744805068941507959995044408787387149069495052997926344210798738615483488630750952265106954582038082909231393988219471871626040331006113245745380531625924189184\n"
          ],
          "name": "stdout"
        }
      ]
    },
    {
      "metadata": {
        "id": "jqOM1ZFR9LWv",
        "colab_type": "code",
        "colab": {
          "base_uri": "https://localhost:8080/",
          "height": 34
        },
        "outputId": "065ac293-7759-412f-ba7a-aa423ae120c0"
      },
      "cell_type": "code",
      "source": [
        "l"
      ],
      "execution_count": 41,
      "outputs": [
        {
          "output_type": "execute_result",
          "data": {
            "text/plain": [
              "4503599627370493"
            ]
          },
          "metadata": {
            "tags": []
          },
          "execution_count": 41
        }
      ]
    },
    {
      "metadata": {
        "id": "qNkQgU0TAX4-",
        "colab_type": "code",
        "colab": {
          "base_uri": "https://localhost:8080/",
          "height": 34
        },
        "outputId": "45bfb102-0cd6-41df-ad55-faf5c10758db"
      },
      "cell_type": "code",
      "source": [
        "4321098765432109\n"
      ],
      "execution_count": 42,
      "outputs": [
        {
          "output_type": "execute_result",
          "data": {
            "text/plain": [
              "4321098765432109"
            ]
          },
          "metadata": {
            "tags": []
          },
          "execution_count": 42
        }
      ]
    },
    {
      "metadata": {
        "id": "Xw7_fon8Gtpi",
        "colab_type": "text"
      },
      "cell_type": "markdown",
      "source": [
        "# わからん"
      ]
    },
    {
      "metadata": {
        "id": "o2knsWaaGuwp",
        "colab_type": "code",
        "colab": {}
      },
      "cell_type": "code",
      "source": [
        ""
      ],
      "execution_count": 0,
      "outputs": []
    }
  ]
}